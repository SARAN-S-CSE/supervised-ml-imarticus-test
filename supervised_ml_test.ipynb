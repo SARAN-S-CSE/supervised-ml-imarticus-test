{
  "nbformat": 4,
  "nbformat_minor": 0,
  "metadata": {
    "colab": {
      "name": "supervised ml test.ipynb",
      "provenance": [],
      "collapsed_sections": []
    },
    "kernelspec": {
      "name": "python3",
      "display_name": "Python 3"
    },
    "language_info": {
      "name": "python"
    },
    "accelerator": "GPU"
  },
  "cells": [
    {
      "cell_type": "code",
      "source": [
        "import pandas as pd\n",
        "import numpy as np\n",
        "import seaborn as sns\n",
        "import matplotlib.pyplot as plt\n",
        "%matplotlib inline"
      ],
      "metadata": {
        "id": "uU_6jv-aflUS"
      },
      "execution_count": 31,
      "outputs": []
    },
    {
      "cell_type": "code",
      "source": [
        "df = pd.read_csv('bank.csv',sep=';')"
      ],
      "metadata": {
        "id": "FQTeek74gWA4"
      },
      "execution_count": 32,
      "outputs": []
    },
    {
      "cell_type": "code",
      "source": [
        "df.head()"
      ],
      "metadata": {
        "colab": {
          "base_uri": "https://localhost:8080/",
          "height": 299
        },
        "id": "qKtEZcUJgcbg",
        "outputId": "00ed6435-ce78-4776-fd83-e11d665cc2ac"
      },
      "execution_count": 33,
      "outputs": [
        {
          "output_type": "execute_result",
          "data": {
            "text/plain": [
              "   age        job  marital    education  default housing loan    contact  \\\n",
              "0   56  housemaid  married     basic.4y       no      no   no  telephone   \n",
              "1   57   services  married  high.school  unknown      no   no  telephone   \n",
              "2   37   services  married  high.school       no     yes   no  telephone   \n",
              "3   40     admin.  married     basic.6y       no      no   no  telephone   \n",
              "4   56   services  married  high.school       no      no  yes  telephone   \n",
              "\n",
              "  month day_of_week  ...  campaign  pdays  previous     poutcome emp.var.rate  \\\n",
              "0   may         mon  ...         1    999         0  nonexistent          1.1   \n",
              "1   may         mon  ...         1    999         0  nonexistent          1.1   \n",
              "2   may         mon  ...         1    999         0  nonexistent          1.1   \n",
              "3   may         mon  ...         1    999         0  nonexistent          1.1   \n",
              "4   may         mon  ...         1    999         0  nonexistent          1.1   \n",
              "\n",
              "   cons.price.idx  cons.conf.idx  euribor3m  nr.employed   y  \n",
              "0          93.994          -36.4      4.857       5191.0  no  \n",
              "1          93.994          -36.4      4.857       5191.0  no  \n",
              "2          93.994          -36.4      4.857       5191.0  no  \n",
              "3          93.994          -36.4      4.857       5191.0  no  \n",
              "4          93.994          -36.4      4.857       5191.0  no  \n",
              "\n",
              "[5 rows x 21 columns]"
            ],
            "text/html": [
              "\n",
              "  <div id=\"df-48ebf626-2b3b-474c-9cad-f2a0ddc8796e\">\n",
              "    <div class=\"colab-df-container\">\n",
              "      <div>\n",
              "<style scoped>\n",
              "    .dataframe tbody tr th:only-of-type {\n",
              "        vertical-align: middle;\n",
              "    }\n",
              "\n",
              "    .dataframe tbody tr th {\n",
              "        vertical-align: top;\n",
              "    }\n",
              "\n",
              "    .dataframe thead th {\n",
              "        text-align: right;\n",
              "    }\n",
              "</style>\n",
              "<table border=\"1\" class=\"dataframe\">\n",
              "  <thead>\n",
              "    <tr style=\"text-align: right;\">\n",
              "      <th></th>\n",
              "      <th>age</th>\n",
              "      <th>job</th>\n",
              "      <th>marital</th>\n",
              "      <th>education</th>\n",
              "      <th>default</th>\n",
              "      <th>housing</th>\n",
              "      <th>loan</th>\n",
              "      <th>contact</th>\n",
              "      <th>month</th>\n",
              "      <th>day_of_week</th>\n",
              "      <th>...</th>\n",
              "      <th>campaign</th>\n",
              "      <th>pdays</th>\n",
              "      <th>previous</th>\n",
              "      <th>poutcome</th>\n",
              "      <th>emp.var.rate</th>\n",
              "      <th>cons.price.idx</th>\n",
              "      <th>cons.conf.idx</th>\n",
              "      <th>euribor3m</th>\n",
              "      <th>nr.employed</th>\n",
              "      <th>y</th>\n",
              "    </tr>\n",
              "  </thead>\n",
              "  <tbody>\n",
              "    <tr>\n",
              "      <th>0</th>\n",
              "      <td>56</td>\n",
              "      <td>housemaid</td>\n",
              "      <td>married</td>\n",
              "      <td>basic.4y</td>\n",
              "      <td>no</td>\n",
              "      <td>no</td>\n",
              "      <td>no</td>\n",
              "      <td>telephone</td>\n",
              "      <td>may</td>\n",
              "      <td>mon</td>\n",
              "      <td>...</td>\n",
              "      <td>1</td>\n",
              "      <td>999</td>\n",
              "      <td>0</td>\n",
              "      <td>nonexistent</td>\n",
              "      <td>1.1</td>\n",
              "      <td>93.994</td>\n",
              "      <td>-36.4</td>\n",
              "      <td>4.857</td>\n",
              "      <td>5191.0</td>\n",
              "      <td>no</td>\n",
              "    </tr>\n",
              "    <tr>\n",
              "      <th>1</th>\n",
              "      <td>57</td>\n",
              "      <td>services</td>\n",
              "      <td>married</td>\n",
              "      <td>high.school</td>\n",
              "      <td>unknown</td>\n",
              "      <td>no</td>\n",
              "      <td>no</td>\n",
              "      <td>telephone</td>\n",
              "      <td>may</td>\n",
              "      <td>mon</td>\n",
              "      <td>...</td>\n",
              "      <td>1</td>\n",
              "      <td>999</td>\n",
              "      <td>0</td>\n",
              "      <td>nonexistent</td>\n",
              "      <td>1.1</td>\n",
              "      <td>93.994</td>\n",
              "      <td>-36.4</td>\n",
              "      <td>4.857</td>\n",
              "      <td>5191.0</td>\n",
              "      <td>no</td>\n",
              "    </tr>\n",
              "    <tr>\n",
              "      <th>2</th>\n",
              "      <td>37</td>\n",
              "      <td>services</td>\n",
              "      <td>married</td>\n",
              "      <td>high.school</td>\n",
              "      <td>no</td>\n",
              "      <td>yes</td>\n",
              "      <td>no</td>\n",
              "      <td>telephone</td>\n",
              "      <td>may</td>\n",
              "      <td>mon</td>\n",
              "      <td>...</td>\n",
              "      <td>1</td>\n",
              "      <td>999</td>\n",
              "      <td>0</td>\n",
              "      <td>nonexistent</td>\n",
              "      <td>1.1</td>\n",
              "      <td>93.994</td>\n",
              "      <td>-36.4</td>\n",
              "      <td>4.857</td>\n",
              "      <td>5191.0</td>\n",
              "      <td>no</td>\n",
              "    </tr>\n",
              "    <tr>\n",
              "      <th>3</th>\n",
              "      <td>40</td>\n",
              "      <td>admin.</td>\n",
              "      <td>married</td>\n",
              "      <td>basic.6y</td>\n",
              "      <td>no</td>\n",
              "      <td>no</td>\n",
              "      <td>no</td>\n",
              "      <td>telephone</td>\n",
              "      <td>may</td>\n",
              "      <td>mon</td>\n",
              "      <td>...</td>\n",
              "      <td>1</td>\n",
              "      <td>999</td>\n",
              "      <td>0</td>\n",
              "      <td>nonexistent</td>\n",
              "      <td>1.1</td>\n",
              "      <td>93.994</td>\n",
              "      <td>-36.4</td>\n",
              "      <td>4.857</td>\n",
              "      <td>5191.0</td>\n",
              "      <td>no</td>\n",
              "    </tr>\n",
              "    <tr>\n",
              "      <th>4</th>\n",
              "      <td>56</td>\n",
              "      <td>services</td>\n",
              "      <td>married</td>\n",
              "      <td>high.school</td>\n",
              "      <td>no</td>\n",
              "      <td>no</td>\n",
              "      <td>yes</td>\n",
              "      <td>telephone</td>\n",
              "      <td>may</td>\n",
              "      <td>mon</td>\n",
              "      <td>...</td>\n",
              "      <td>1</td>\n",
              "      <td>999</td>\n",
              "      <td>0</td>\n",
              "      <td>nonexistent</td>\n",
              "      <td>1.1</td>\n",
              "      <td>93.994</td>\n",
              "      <td>-36.4</td>\n",
              "      <td>4.857</td>\n",
              "      <td>5191.0</td>\n",
              "      <td>no</td>\n",
              "    </tr>\n",
              "  </tbody>\n",
              "</table>\n",
              "<p>5 rows × 21 columns</p>\n",
              "</div>\n",
              "      <button class=\"colab-df-convert\" onclick=\"convertToInteractive('df-48ebf626-2b3b-474c-9cad-f2a0ddc8796e')\"\n",
              "              title=\"Convert this dataframe to an interactive table.\"\n",
              "              style=\"display:none;\">\n",
              "        \n",
              "  <svg xmlns=\"http://www.w3.org/2000/svg\" height=\"24px\"viewBox=\"0 0 24 24\"\n",
              "       width=\"24px\">\n",
              "    <path d=\"M0 0h24v24H0V0z\" fill=\"none\"/>\n",
              "    <path d=\"M18.56 5.44l.94 2.06.94-2.06 2.06-.94-2.06-.94-.94-2.06-.94 2.06-2.06.94zm-11 1L8.5 8.5l.94-2.06 2.06-.94-2.06-.94L8.5 2.5l-.94 2.06-2.06.94zm10 10l.94 2.06.94-2.06 2.06-.94-2.06-.94-.94-2.06-.94 2.06-2.06.94z\"/><path d=\"M17.41 7.96l-1.37-1.37c-.4-.4-.92-.59-1.43-.59-.52 0-1.04.2-1.43.59L10.3 9.45l-7.72 7.72c-.78.78-.78 2.05 0 2.83L4 21.41c.39.39.9.59 1.41.59.51 0 1.02-.2 1.41-.59l7.78-7.78 2.81-2.81c.8-.78.8-2.07 0-2.86zM5.41 20L4 18.59l7.72-7.72 1.47 1.35L5.41 20z\"/>\n",
              "  </svg>\n",
              "      </button>\n",
              "      \n",
              "  <style>\n",
              "    .colab-df-container {\n",
              "      display:flex;\n",
              "      flex-wrap:wrap;\n",
              "      gap: 12px;\n",
              "    }\n",
              "\n",
              "    .colab-df-convert {\n",
              "      background-color: #E8F0FE;\n",
              "      border: none;\n",
              "      border-radius: 50%;\n",
              "      cursor: pointer;\n",
              "      display: none;\n",
              "      fill: #1967D2;\n",
              "      height: 32px;\n",
              "      padding: 0 0 0 0;\n",
              "      width: 32px;\n",
              "    }\n",
              "\n",
              "    .colab-df-convert:hover {\n",
              "      background-color: #E2EBFA;\n",
              "      box-shadow: 0px 1px 2px rgba(60, 64, 67, 0.3), 0px 1px 3px 1px rgba(60, 64, 67, 0.15);\n",
              "      fill: #174EA6;\n",
              "    }\n",
              "\n",
              "    [theme=dark] .colab-df-convert {\n",
              "      background-color: #3B4455;\n",
              "      fill: #D2E3FC;\n",
              "    }\n",
              "\n",
              "    [theme=dark] .colab-df-convert:hover {\n",
              "      background-color: #434B5C;\n",
              "      box-shadow: 0px 1px 3px 1px rgba(0, 0, 0, 0.15);\n",
              "      filter: drop-shadow(0px 1px 2px rgba(0, 0, 0, 0.3));\n",
              "      fill: #FFFFFF;\n",
              "    }\n",
              "  </style>\n",
              "\n",
              "      <script>\n",
              "        const buttonEl =\n",
              "          document.querySelector('#df-48ebf626-2b3b-474c-9cad-f2a0ddc8796e button.colab-df-convert');\n",
              "        buttonEl.style.display =\n",
              "          google.colab.kernel.accessAllowed ? 'block' : 'none';\n",
              "\n",
              "        async function convertToInteractive(key) {\n",
              "          const element = document.querySelector('#df-48ebf626-2b3b-474c-9cad-f2a0ddc8796e');\n",
              "          const dataTable =\n",
              "            await google.colab.kernel.invokeFunction('convertToInteractive',\n",
              "                                                     [key], {});\n",
              "          if (!dataTable) return;\n",
              "\n",
              "          const docLinkHtml = 'Like what you see? Visit the ' +\n",
              "            '<a target=\"_blank\" href=https://colab.research.google.com/notebooks/data_table.ipynb>data table notebook</a>'\n",
              "            + ' to learn more about interactive tables.';\n",
              "          element.innerHTML = '';\n",
              "          dataTable['output_type'] = 'display_data';\n",
              "          await google.colab.output.renderOutput(dataTable, element);\n",
              "          const docLink = document.createElement('div');\n",
              "          docLink.innerHTML = docLinkHtml;\n",
              "          element.appendChild(docLink);\n",
              "        }\n",
              "      </script>\n",
              "    </div>\n",
              "  </div>\n",
              "  "
            ]
          },
          "metadata": {},
          "execution_count": 33
        }
      ]
    },
    {
      "cell_type": "code",
      "source": [
        "df.shape"
      ],
      "metadata": {
        "colab": {
          "base_uri": "https://localhost:8080/"
        },
        "id": "Gb7BqUNDnR8c",
        "outputId": "e33c088e-2ff5-433a-cb5a-64edc307f986"
      },
      "execution_count": 100,
      "outputs": [
        {
          "output_type": "execute_result",
          "data": {
            "text/plain": [
              "(45107, 41)"
            ]
          },
          "metadata": {},
          "execution_count": 100
        }
      ]
    },
    {
      "cell_type": "code",
      "source": [
        "df.info()"
      ],
      "metadata": {
        "colab": {
          "base_uri": "https://localhost:8080/"
        },
        "id": "Mg--ZN7wgeRI",
        "outputId": "44f1b62f-6e2d-4b8f-cd44-472b2d06fbc5"
      },
      "execution_count": 34,
      "outputs": [
        {
          "output_type": "stream",
          "name": "stdout",
          "text": [
            "<class 'pandas.core.frame.DataFrame'>\n",
            "RangeIndex: 48519 entries, 0 to 48518\n",
            "Data columns (total 21 columns):\n",
            " #   Column          Non-Null Count  Dtype  \n",
            "---  ------          --------------  -----  \n",
            " 0   age             48519 non-null  int64  \n",
            " 1   job             48519 non-null  object \n",
            " 2   marital         48519 non-null  object \n",
            " 3   education       48519 non-null  object \n",
            " 4   default         48519 non-null  object \n",
            " 5   housing         48519 non-null  object \n",
            " 6   loan            48519 non-null  object \n",
            " 7   contact         48519 non-null  object \n",
            " 8   month           48519 non-null  object \n",
            " 9   day_of_week     48519 non-null  object \n",
            " 10  duration        48519 non-null  int64  \n",
            " 11  campaign        48519 non-null  int64  \n",
            " 12  pdays           48519 non-null  int64  \n",
            " 13  previous        48519 non-null  int64  \n",
            " 14  poutcome        48519 non-null  object \n",
            " 15  emp.var.rate    48518 non-null  float64\n",
            " 16  cons.price.idx  48518 non-null  float64\n",
            " 17  cons.conf.idx   48518 non-null  float64\n",
            " 18  euribor3m       48518 non-null  float64\n",
            " 19  nr.employed     48518 non-null  float64\n",
            " 20  y               48518 non-null  object \n",
            "dtypes: float64(5), int64(5), object(11)\n",
            "memory usage: 7.8+ MB\n"
          ]
        }
      ]
    },
    {
      "cell_type": "code",
      "source": [
        "df.describe()"
      ],
      "metadata": {
        "colab": {
          "base_uri": "https://localhost:8080/",
          "height": 364
        },
        "id": "n7Zu50-9ghIU",
        "outputId": "88ea819c-a14d-4f2e-c950-4b78ad04c38d"
      },
      "execution_count": 36,
      "outputs": [
        {
          "output_type": "execute_result",
          "data": {
            "text/plain": [
              "                age      duration      campaign         pdays      previous  \\\n",
              "count  48519.000000  48519.000000  48519.000000  48519.000000  48519.000000   \n",
              "mean      40.047775    258.153527      2.639852    967.994147      0.146829   \n",
              "std       10.306748    260.831287      2.905518    172.708050      0.460170   \n",
              "min       17.000000      0.000000      1.000000      0.000000      0.000000   \n",
              "25%       32.000000    102.000000      1.000000    999.000000      0.000000   \n",
              "50%       38.000000    177.000000      2.000000    999.000000      0.000000   \n",
              "75%       47.000000    318.000000      3.000000    999.000000      0.000000   \n",
              "max       98.000000   4918.000000     56.000000    999.000000      7.000000   \n",
              "\n",
              "       emp.var.rate  cons.price.idx  cons.conf.idx     euribor3m   nr.employed  \n",
              "count  48518.000000    48518.000000   48518.000000  48518.000000  48518.000000  \n",
              "mean       0.281024       93.595359     -40.388666      3.824043   5176.261348  \n",
              "std        1.522463        0.543145       4.459136      1.668774     70.070260  \n",
              "min       -3.400000       92.201000     -50.800000      0.634000   4963.600000  \n",
              "25%       -1.700000       93.200000     -42.700000      1.405000   5099.100000  \n",
              "50%        1.100000       93.918000     -41.800000      4.860000   5195.800000  \n",
              "75%        1.400000       93.994000     -36.400000      4.962000   5228.100000  \n",
              "max        1.400000       94.767000     -26.900000      5.045000   5228.100000  "
            ],
            "text/html": [
              "\n",
              "  <div id=\"df-b3d65a8b-9bc4-4e45-ae55-543b67bab904\">\n",
              "    <div class=\"colab-df-container\">\n",
              "      <div>\n",
              "<style scoped>\n",
              "    .dataframe tbody tr th:only-of-type {\n",
              "        vertical-align: middle;\n",
              "    }\n",
              "\n",
              "    .dataframe tbody tr th {\n",
              "        vertical-align: top;\n",
              "    }\n",
              "\n",
              "    .dataframe thead th {\n",
              "        text-align: right;\n",
              "    }\n",
              "</style>\n",
              "<table border=\"1\" class=\"dataframe\">\n",
              "  <thead>\n",
              "    <tr style=\"text-align: right;\">\n",
              "      <th></th>\n",
              "      <th>age</th>\n",
              "      <th>duration</th>\n",
              "      <th>campaign</th>\n",
              "      <th>pdays</th>\n",
              "      <th>previous</th>\n",
              "      <th>emp.var.rate</th>\n",
              "      <th>cons.price.idx</th>\n",
              "      <th>cons.conf.idx</th>\n",
              "      <th>euribor3m</th>\n",
              "      <th>nr.employed</th>\n",
              "    </tr>\n",
              "  </thead>\n",
              "  <tbody>\n",
              "    <tr>\n",
              "      <th>count</th>\n",
              "      <td>48519.000000</td>\n",
              "      <td>48519.000000</td>\n",
              "      <td>48519.000000</td>\n",
              "      <td>48519.000000</td>\n",
              "      <td>48519.000000</td>\n",
              "      <td>48518.000000</td>\n",
              "      <td>48518.000000</td>\n",
              "      <td>48518.000000</td>\n",
              "      <td>48518.000000</td>\n",
              "      <td>48518.000000</td>\n",
              "    </tr>\n",
              "    <tr>\n",
              "      <th>mean</th>\n",
              "      <td>40.047775</td>\n",
              "      <td>258.153527</td>\n",
              "      <td>2.639852</td>\n",
              "      <td>967.994147</td>\n",
              "      <td>0.146829</td>\n",
              "      <td>0.281024</td>\n",
              "      <td>93.595359</td>\n",
              "      <td>-40.388666</td>\n",
              "      <td>3.824043</td>\n",
              "      <td>5176.261348</td>\n",
              "    </tr>\n",
              "    <tr>\n",
              "      <th>std</th>\n",
              "      <td>10.306748</td>\n",
              "      <td>260.831287</td>\n",
              "      <td>2.905518</td>\n",
              "      <td>172.708050</td>\n",
              "      <td>0.460170</td>\n",
              "      <td>1.522463</td>\n",
              "      <td>0.543145</td>\n",
              "      <td>4.459136</td>\n",
              "      <td>1.668774</td>\n",
              "      <td>70.070260</td>\n",
              "    </tr>\n",
              "    <tr>\n",
              "      <th>min</th>\n",
              "      <td>17.000000</td>\n",
              "      <td>0.000000</td>\n",
              "      <td>1.000000</td>\n",
              "      <td>0.000000</td>\n",
              "      <td>0.000000</td>\n",
              "      <td>-3.400000</td>\n",
              "      <td>92.201000</td>\n",
              "      <td>-50.800000</td>\n",
              "      <td>0.634000</td>\n",
              "      <td>4963.600000</td>\n",
              "    </tr>\n",
              "    <tr>\n",
              "      <th>25%</th>\n",
              "      <td>32.000000</td>\n",
              "      <td>102.000000</td>\n",
              "      <td>1.000000</td>\n",
              "      <td>999.000000</td>\n",
              "      <td>0.000000</td>\n",
              "      <td>-1.700000</td>\n",
              "      <td>93.200000</td>\n",
              "      <td>-42.700000</td>\n",
              "      <td>1.405000</td>\n",
              "      <td>5099.100000</td>\n",
              "    </tr>\n",
              "    <tr>\n",
              "      <th>50%</th>\n",
              "      <td>38.000000</td>\n",
              "      <td>177.000000</td>\n",
              "      <td>2.000000</td>\n",
              "      <td>999.000000</td>\n",
              "      <td>0.000000</td>\n",
              "      <td>1.100000</td>\n",
              "      <td>93.918000</td>\n",
              "      <td>-41.800000</td>\n",
              "      <td>4.860000</td>\n",
              "      <td>5195.800000</td>\n",
              "    </tr>\n",
              "    <tr>\n",
              "      <th>75%</th>\n",
              "      <td>47.000000</td>\n",
              "      <td>318.000000</td>\n",
              "      <td>3.000000</td>\n",
              "      <td>999.000000</td>\n",
              "      <td>0.000000</td>\n",
              "      <td>1.400000</td>\n",
              "      <td>93.994000</td>\n",
              "      <td>-36.400000</td>\n",
              "      <td>4.962000</td>\n",
              "      <td>5228.100000</td>\n",
              "    </tr>\n",
              "    <tr>\n",
              "      <th>max</th>\n",
              "      <td>98.000000</td>\n",
              "      <td>4918.000000</td>\n",
              "      <td>56.000000</td>\n",
              "      <td>999.000000</td>\n",
              "      <td>7.000000</td>\n",
              "      <td>1.400000</td>\n",
              "      <td>94.767000</td>\n",
              "      <td>-26.900000</td>\n",
              "      <td>5.045000</td>\n",
              "      <td>5228.100000</td>\n",
              "    </tr>\n",
              "  </tbody>\n",
              "</table>\n",
              "</div>\n",
              "      <button class=\"colab-df-convert\" onclick=\"convertToInteractive('df-b3d65a8b-9bc4-4e45-ae55-543b67bab904')\"\n",
              "              title=\"Convert this dataframe to an interactive table.\"\n",
              "              style=\"display:none;\">\n",
              "        \n",
              "  <svg xmlns=\"http://www.w3.org/2000/svg\" height=\"24px\"viewBox=\"0 0 24 24\"\n",
              "       width=\"24px\">\n",
              "    <path d=\"M0 0h24v24H0V0z\" fill=\"none\"/>\n",
              "    <path d=\"M18.56 5.44l.94 2.06.94-2.06 2.06-.94-2.06-.94-.94-2.06-.94 2.06-2.06.94zm-11 1L8.5 8.5l.94-2.06 2.06-.94-2.06-.94L8.5 2.5l-.94 2.06-2.06.94zm10 10l.94 2.06.94-2.06 2.06-.94-2.06-.94-.94-2.06-.94 2.06-2.06.94z\"/><path d=\"M17.41 7.96l-1.37-1.37c-.4-.4-.92-.59-1.43-.59-.52 0-1.04.2-1.43.59L10.3 9.45l-7.72 7.72c-.78.78-.78 2.05 0 2.83L4 21.41c.39.39.9.59 1.41.59.51 0 1.02-.2 1.41-.59l7.78-7.78 2.81-2.81c.8-.78.8-2.07 0-2.86zM5.41 20L4 18.59l7.72-7.72 1.47 1.35L5.41 20z\"/>\n",
              "  </svg>\n",
              "      </button>\n",
              "      \n",
              "  <style>\n",
              "    .colab-df-container {\n",
              "      display:flex;\n",
              "      flex-wrap:wrap;\n",
              "      gap: 12px;\n",
              "    }\n",
              "\n",
              "    .colab-df-convert {\n",
              "      background-color: #E8F0FE;\n",
              "      border: none;\n",
              "      border-radius: 50%;\n",
              "      cursor: pointer;\n",
              "      display: none;\n",
              "      fill: #1967D2;\n",
              "      height: 32px;\n",
              "      padding: 0 0 0 0;\n",
              "      width: 32px;\n",
              "    }\n",
              "\n",
              "    .colab-df-convert:hover {\n",
              "      background-color: #E2EBFA;\n",
              "      box-shadow: 0px 1px 2px rgba(60, 64, 67, 0.3), 0px 1px 3px 1px rgba(60, 64, 67, 0.15);\n",
              "      fill: #174EA6;\n",
              "    }\n",
              "\n",
              "    [theme=dark] .colab-df-convert {\n",
              "      background-color: #3B4455;\n",
              "      fill: #D2E3FC;\n",
              "    }\n",
              "\n",
              "    [theme=dark] .colab-df-convert:hover {\n",
              "      background-color: #434B5C;\n",
              "      box-shadow: 0px 1px 3px 1px rgba(0, 0, 0, 0.15);\n",
              "      filter: drop-shadow(0px 1px 2px rgba(0, 0, 0, 0.3));\n",
              "      fill: #FFFFFF;\n",
              "    }\n",
              "  </style>\n",
              "\n",
              "      <script>\n",
              "        const buttonEl =\n",
              "          document.querySelector('#df-b3d65a8b-9bc4-4e45-ae55-543b67bab904 button.colab-df-convert');\n",
              "        buttonEl.style.display =\n",
              "          google.colab.kernel.accessAllowed ? 'block' : 'none';\n",
              "\n",
              "        async function convertToInteractive(key) {\n",
              "          const element = document.querySelector('#df-b3d65a8b-9bc4-4e45-ae55-543b67bab904');\n",
              "          const dataTable =\n",
              "            await google.colab.kernel.invokeFunction('convertToInteractive',\n",
              "                                                     [key], {});\n",
              "          if (!dataTable) return;\n",
              "\n",
              "          const docLinkHtml = 'Like what you see? Visit the ' +\n",
              "            '<a target=\"_blank\" href=https://colab.research.google.com/notebooks/data_table.ipynb>data table notebook</a>'\n",
              "            + ' to learn more about interactive tables.';\n",
              "          element.innerHTML = '';\n",
              "          dataTable['output_type'] = 'display_data';\n",
              "          await google.colab.output.renderOutput(dataTable, element);\n",
              "          const docLink = document.createElement('div');\n",
              "          docLink.innerHTML = docLinkHtml;\n",
              "          element.appendChild(docLink);\n",
              "        }\n",
              "      </script>\n",
              "    </div>\n",
              "  </div>\n",
              "  "
            ]
          },
          "metadata": {},
          "execution_count": 36
        }
      ]
    },
    {
      "cell_type": "code",
      "source": [
        "df.corr()"
      ],
      "metadata": {
        "colab": {
          "base_uri": "https://localhost:8080/",
          "height": 332
        },
        "id": "RifIJ0asiIJr",
        "outputId": "130521a4-3231-41b1-d66f-36164a244ce1"
      },
      "execution_count": 52,
      "outputs": [
        {
          "output_type": "execute_result",
          "data": {
            "text/plain": [
              "                     age  campaign     pdays  previous  emp.var.rate  \\\n",
              "age             1.000000  0.005719 -0.035284  0.025526     -0.001489   \n",
              "campaign        0.005719  1.000000  0.049336 -0.075882      0.143388   \n",
              "pdays          -0.035284  0.049336  1.000000 -0.584472      0.277934   \n",
              "previous        0.025526 -0.075882 -0.584472  1.000000     -0.437136   \n",
              "emp.var.rate   -0.001489  0.143388  0.277934 -0.437136      1.000000   \n",
              "cons.price.idx -0.004295  0.131974  0.085591 -0.214731      0.750171   \n",
              "cons.conf.idx   0.119883 -0.032492 -0.081038 -0.063252      0.214102   \n",
              "euribor3m       0.008426  0.129634  0.300341 -0.466477      0.974636   \n",
              "nr.employed    -0.016928  0.137077  0.370798 -0.507682      0.916908   \n",
              "\n",
              "                cons.price.idx  cons.conf.idx  euribor3m  nr.employed  \n",
              "age                  -0.004295       0.119883   0.008426    -0.016928  \n",
              "campaign              0.131974      -0.032492   0.129634     0.137077  \n",
              "pdays                 0.085591      -0.081038   0.300341     0.370798  \n",
              "previous             -0.214731      -0.063252  -0.466477    -0.507682  \n",
              "emp.var.rate          0.750171       0.214102   0.974636     0.916908  \n",
              "cons.price.idx        1.000000       0.023136   0.672912     0.515817  \n",
              "cons.conf.idx         0.023136       1.000000   0.287945     0.126771  \n",
              "euribor3m             0.672912       0.287945   1.000000     0.949987  \n",
              "nr.employed           0.515817       0.126771   0.949987     1.000000  "
            ],
            "text/html": [
              "\n",
              "  <div id=\"df-88c7b829-5d82-44b4-96eb-c197ad14af84\">\n",
              "    <div class=\"colab-df-container\">\n",
              "      <div>\n",
              "<style scoped>\n",
              "    .dataframe tbody tr th:only-of-type {\n",
              "        vertical-align: middle;\n",
              "    }\n",
              "\n",
              "    .dataframe tbody tr th {\n",
              "        vertical-align: top;\n",
              "    }\n",
              "\n",
              "    .dataframe thead th {\n",
              "        text-align: right;\n",
              "    }\n",
              "</style>\n",
              "<table border=\"1\" class=\"dataframe\">\n",
              "  <thead>\n",
              "    <tr style=\"text-align: right;\">\n",
              "      <th></th>\n",
              "      <th>age</th>\n",
              "      <th>campaign</th>\n",
              "      <th>pdays</th>\n",
              "      <th>previous</th>\n",
              "      <th>emp.var.rate</th>\n",
              "      <th>cons.price.idx</th>\n",
              "      <th>cons.conf.idx</th>\n",
              "      <th>euribor3m</th>\n",
              "      <th>nr.employed</th>\n",
              "    </tr>\n",
              "  </thead>\n",
              "  <tbody>\n",
              "    <tr>\n",
              "      <th>age</th>\n",
              "      <td>1.000000</td>\n",
              "      <td>0.005719</td>\n",
              "      <td>-0.035284</td>\n",
              "      <td>0.025526</td>\n",
              "      <td>-0.001489</td>\n",
              "      <td>-0.004295</td>\n",
              "      <td>0.119883</td>\n",
              "      <td>0.008426</td>\n",
              "      <td>-0.016928</td>\n",
              "    </tr>\n",
              "    <tr>\n",
              "      <th>campaign</th>\n",
              "      <td>0.005719</td>\n",
              "      <td>1.000000</td>\n",
              "      <td>0.049336</td>\n",
              "      <td>-0.075882</td>\n",
              "      <td>0.143388</td>\n",
              "      <td>0.131974</td>\n",
              "      <td>-0.032492</td>\n",
              "      <td>0.129634</td>\n",
              "      <td>0.137077</td>\n",
              "    </tr>\n",
              "    <tr>\n",
              "      <th>pdays</th>\n",
              "      <td>-0.035284</td>\n",
              "      <td>0.049336</td>\n",
              "      <td>1.000000</td>\n",
              "      <td>-0.584472</td>\n",
              "      <td>0.277934</td>\n",
              "      <td>0.085591</td>\n",
              "      <td>-0.081038</td>\n",
              "      <td>0.300341</td>\n",
              "      <td>0.370798</td>\n",
              "    </tr>\n",
              "    <tr>\n",
              "      <th>previous</th>\n",
              "      <td>0.025526</td>\n",
              "      <td>-0.075882</td>\n",
              "      <td>-0.584472</td>\n",
              "      <td>1.000000</td>\n",
              "      <td>-0.437136</td>\n",
              "      <td>-0.214731</td>\n",
              "      <td>-0.063252</td>\n",
              "      <td>-0.466477</td>\n",
              "      <td>-0.507682</td>\n",
              "    </tr>\n",
              "    <tr>\n",
              "      <th>emp.var.rate</th>\n",
              "      <td>-0.001489</td>\n",
              "      <td>0.143388</td>\n",
              "      <td>0.277934</td>\n",
              "      <td>-0.437136</td>\n",
              "      <td>1.000000</td>\n",
              "      <td>0.750171</td>\n",
              "      <td>0.214102</td>\n",
              "      <td>0.974636</td>\n",
              "      <td>0.916908</td>\n",
              "    </tr>\n",
              "    <tr>\n",
              "      <th>cons.price.idx</th>\n",
              "      <td>-0.004295</td>\n",
              "      <td>0.131974</td>\n",
              "      <td>0.085591</td>\n",
              "      <td>-0.214731</td>\n",
              "      <td>0.750171</td>\n",
              "      <td>1.000000</td>\n",
              "      <td>0.023136</td>\n",
              "      <td>0.672912</td>\n",
              "      <td>0.515817</td>\n",
              "    </tr>\n",
              "    <tr>\n",
              "      <th>cons.conf.idx</th>\n",
              "      <td>0.119883</td>\n",
              "      <td>-0.032492</td>\n",
              "      <td>-0.081038</td>\n",
              "      <td>-0.063252</td>\n",
              "      <td>0.214102</td>\n",
              "      <td>0.023136</td>\n",
              "      <td>1.000000</td>\n",
              "      <td>0.287945</td>\n",
              "      <td>0.126771</td>\n",
              "    </tr>\n",
              "    <tr>\n",
              "      <th>euribor3m</th>\n",
              "      <td>0.008426</td>\n",
              "      <td>0.129634</td>\n",
              "      <td>0.300341</td>\n",
              "      <td>-0.466477</td>\n",
              "      <td>0.974636</td>\n",
              "      <td>0.672912</td>\n",
              "      <td>0.287945</td>\n",
              "      <td>1.000000</td>\n",
              "      <td>0.949987</td>\n",
              "    </tr>\n",
              "    <tr>\n",
              "      <th>nr.employed</th>\n",
              "      <td>-0.016928</td>\n",
              "      <td>0.137077</td>\n",
              "      <td>0.370798</td>\n",
              "      <td>-0.507682</td>\n",
              "      <td>0.916908</td>\n",
              "      <td>0.515817</td>\n",
              "      <td>0.126771</td>\n",
              "      <td>0.949987</td>\n",
              "      <td>1.000000</td>\n",
              "    </tr>\n",
              "  </tbody>\n",
              "</table>\n",
              "</div>\n",
              "      <button class=\"colab-df-convert\" onclick=\"convertToInteractive('df-88c7b829-5d82-44b4-96eb-c197ad14af84')\"\n",
              "              title=\"Convert this dataframe to an interactive table.\"\n",
              "              style=\"display:none;\">\n",
              "        \n",
              "  <svg xmlns=\"http://www.w3.org/2000/svg\" height=\"24px\"viewBox=\"0 0 24 24\"\n",
              "       width=\"24px\">\n",
              "    <path d=\"M0 0h24v24H0V0z\" fill=\"none\"/>\n",
              "    <path d=\"M18.56 5.44l.94 2.06.94-2.06 2.06-.94-2.06-.94-.94-2.06-.94 2.06-2.06.94zm-11 1L8.5 8.5l.94-2.06 2.06-.94-2.06-.94L8.5 2.5l-.94 2.06-2.06.94zm10 10l.94 2.06.94-2.06 2.06-.94-2.06-.94-.94-2.06-.94 2.06-2.06.94z\"/><path d=\"M17.41 7.96l-1.37-1.37c-.4-.4-.92-.59-1.43-.59-.52 0-1.04.2-1.43.59L10.3 9.45l-7.72 7.72c-.78.78-.78 2.05 0 2.83L4 21.41c.39.39.9.59 1.41.59.51 0 1.02-.2 1.41-.59l7.78-7.78 2.81-2.81c.8-.78.8-2.07 0-2.86zM5.41 20L4 18.59l7.72-7.72 1.47 1.35L5.41 20z\"/>\n",
              "  </svg>\n",
              "      </button>\n",
              "      \n",
              "  <style>\n",
              "    .colab-df-container {\n",
              "      display:flex;\n",
              "      flex-wrap:wrap;\n",
              "      gap: 12px;\n",
              "    }\n",
              "\n",
              "    .colab-df-convert {\n",
              "      background-color: #E8F0FE;\n",
              "      border: none;\n",
              "      border-radius: 50%;\n",
              "      cursor: pointer;\n",
              "      display: none;\n",
              "      fill: #1967D2;\n",
              "      height: 32px;\n",
              "      padding: 0 0 0 0;\n",
              "      width: 32px;\n",
              "    }\n",
              "\n",
              "    .colab-df-convert:hover {\n",
              "      background-color: #E2EBFA;\n",
              "      box-shadow: 0px 1px 2px rgba(60, 64, 67, 0.3), 0px 1px 3px 1px rgba(60, 64, 67, 0.15);\n",
              "      fill: #174EA6;\n",
              "    }\n",
              "\n",
              "    [theme=dark] .colab-df-convert {\n",
              "      background-color: #3B4455;\n",
              "      fill: #D2E3FC;\n",
              "    }\n",
              "\n",
              "    [theme=dark] .colab-df-convert:hover {\n",
              "      background-color: #434B5C;\n",
              "      box-shadow: 0px 1px 3px 1px rgba(0, 0, 0, 0.15);\n",
              "      filter: drop-shadow(0px 1px 2px rgba(0, 0, 0, 0.3));\n",
              "      fill: #FFFFFF;\n",
              "    }\n",
              "  </style>\n",
              "\n",
              "      <script>\n",
              "        const buttonEl =\n",
              "          document.querySelector('#df-88c7b829-5d82-44b4-96eb-c197ad14af84 button.colab-df-convert');\n",
              "        buttonEl.style.display =\n",
              "          google.colab.kernel.accessAllowed ? 'block' : 'none';\n",
              "\n",
              "        async function convertToInteractive(key) {\n",
              "          const element = document.querySelector('#df-88c7b829-5d82-44b4-96eb-c197ad14af84');\n",
              "          const dataTable =\n",
              "            await google.colab.kernel.invokeFunction('convertToInteractive',\n",
              "                                                     [key], {});\n",
              "          if (!dataTable) return;\n",
              "\n",
              "          const docLinkHtml = 'Like what you see? Visit the ' +\n",
              "            '<a target=\"_blank\" href=https://colab.research.google.com/notebooks/data_table.ipynb>data table notebook</a>'\n",
              "            + ' to learn more about interactive tables.';\n",
              "          element.innerHTML = '';\n",
              "          dataTable['output_type'] = 'display_data';\n",
              "          await google.colab.output.renderOutput(dataTable, element);\n",
              "          const docLink = document.createElement('div');\n",
              "          docLink.innerHTML = docLinkHtml;\n",
              "          element.appendChild(docLink);\n",
              "        }\n",
              "      </script>\n",
              "    </div>\n",
              "  </div>\n",
              "  "
            ]
          },
          "metadata": {},
          "execution_count": 52
        }
      ]
    },
    {
      "cell_type": "code",
      "source": [
        "sns.heatmap(df.corr(),cmap=\"YlGnBu\",annot=True)\n",
        "plt.figure(figsize=(40,40))"
      ],
      "metadata": {
        "colab": {
          "base_uri": "https://localhost:8080/",
          "height": 364
        },
        "id": "QiJfn1F8iLAf",
        "outputId": "86fa707c-be61-471f-b52f-d663bbb5da8a"
      },
      "execution_count": 54,
      "outputs": [
        {
          "output_type": "execute_result",
          "data": {
            "text/plain": [
              "<Figure size 2880x2880 with 0 Axes>"
            ]
          },
          "metadata": {},
          "execution_count": 54
        },
        {
          "output_type": "display_data",
          "data": {
            "text/plain": [
              "<Figure size 432x288 with 2 Axes>"
            ],
            "image/png": "[encoded data removed]"
          },
          "metadata": {
            "needs_background": "light"
          }
        },
        {
          "output_type": "display_data",
          "data": {
            "text/plain": [
              "<Figure size 2880x2880 with 0 Axes>"
            ]
          },
          "metadata": {}
        }
      ]
    },
    {
      "cell_type": "code",
      "source": [
        "cat = [\"job\", \"marital\", \"education\", \"default\", \"housing\", \"loan\", \"contact\", \"month\", \"day_of_week\", \"poutcome\"]\n",
        "num = [\"age\", \"duration\", \"campaign\", \"pdays\", \"previous\", \"emp.var.rate\", \"cons.price.idx\", \"cons.conf.idx\",\"euribor3m\", \"nr.employed\"]\n",
        "print(len(cat), len(num))"
      ],
      "metadata": {
        "colab": {
          "base_uri": "https://localhost:8080/"
        },
        "id": "-yvzZAp_gk7r",
        "outputId": "69678e3b-6e90-4b5a-b43e-708543647cd5"
      },
      "execution_count": 64,
      "outputs": [
        {
          "output_type": "stream",
          "name": "stdout",
          "text": [
            "10 10\n"
          ]
        }
      ]
    },
    {
      "cell_type": "code",
      "source": [
        "\n"
      ],
      "metadata": {
        "id": "9dn5HsqtiJ17"
      },
      "execution_count": null,
      "outputs": []
    },
    {
      "cell_type": "code",
      "source": [
        "df.replace('unknown', np.NaN, inplace=True)"
      ],
      "metadata": {
        "id": "UoQMzlBzgwTb"
      },
      "execution_count": 38,
      "outputs": []
    },
    {
      "cell_type": "code",
      "source": [
        "df.isnull().sum()"
      ],
      "metadata": {
        "colab": {
          "base_uri": "https://localhost:8080/"
        },
        "id": "PJJpk5c9gzgA",
        "outputId": "038341f8-1a0f-4ea1-81f4-0a34ce462e13"
      },
      "execution_count": 39,
      "outputs": [
        {
          "output_type": "execute_result",
          "data": {
            "text/plain": [
              "age                   0\n",
              "job                 394\n",
              "marital              94\n",
              "education          2042\n",
              "default           10482\n",
              "housing            1117\n",
              "loan               1117\n",
              "contact               0\n",
              "month                 0\n",
              "day_of_week           0\n",
              "duration              0\n",
              "campaign              0\n",
              "pdays                 0\n",
              "previous              0\n",
              "poutcome              0\n",
              "emp.var.rate          1\n",
              "cons.price.idx        1\n",
              "cons.conf.idx         1\n",
              "euribor3m             1\n",
              "nr.employed           1\n",
              "y                     1\n",
              "dtype: int64"
            ]
          },
          "metadata": {},
          "execution_count": 39
        }
      ]
    },
    {
      "cell_type": "code",
      "source": [
        "sns.countplot(df[\"y\"])\n",
        "plt.show()"
      ],
      "metadata": {
        "colab": {
          "base_uri": "https://localhost:8080/",
          "height": 334
        },
        "id": "dP4x27P5g3Xf",
        "outputId": "f89a3ac2-32d3-4c55-de63-3ad21012b601"
      },
      "execution_count": 41,
      "outputs": [
        {
          "output_type": "stream",
          "name": "stderr",
          "text": [
            "/usr/local/lib/python3.7/dist-packages/seaborn/_decorators.py:43: FutureWarning: Pass the following variable as a keyword arg: x. From version 0.12, the only valid positional argument will be `data`, and passing other arguments without an explicit keyword will result in an error or misinterpretation.\n",
            "  FutureWarning\n"
          ]
        },
        {
          "output_type": "display_data",
          "data": {
            "text/plain": [
              "<Figure size 432x288 with 1 Axes>"
            ],
            "image/png": "[encoded data removed]"
          },
          "metadata": {
            "needs_background": "light"
          }
        }
      ]
    },
    {
      "cell_type": "code",
      "source": [
        "for column in cat:\n",
        "    plt.figure(figsize=(15, 6))\n",
        "    print(column.title())\n",
        "    p= sns.countplot(df[column])\n",
        "    plt.show()"
      ],
      "metadata": {
        "colab": {
          "base_uri": "https://localhost:8080/",
          "height": 1000
        },
        "id": "bPp7TjnMhRuI",
        "outputId": "3f9cbee2-550e-489d-9a12-9e918c02f053"
      },
      "execution_count": 43,
      "outputs": [
        {
          "output_type": "stream",
          "name": "stdout",
          "text": [
            "Job\n"
          ]
        },
        {
          "output_type": "stream",
          "name": "stderr",
          "text": [
            "/usr/local/lib/python3.7/dist-packages/seaborn/_decorators.py:43: FutureWarning: Pass the following variable as a keyword arg: x. From version 0.12, the only valid positional argument will be `data`, and passing other arguments without an explicit keyword will result in an error or misinterpretation.\n",
            "  FutureWarning\n"
          ]
        },
        {
          "output_type": "display_data",
          "data": {
            "text/plain": [
              "<Figure size 1080x432 with 1 Axes>"
            ],
            "image/png": "[encoded data removed]"
          },
          "metadata": {
            "needs_background": "light"
          }
        },
        {
          "output_type": "stream",
          "name": "stdout",
          "text": [
            "Marital\n"
          ]
        },
        {
          "output_type": "stream",
          "name": "stderr",
          "text": [
            "/usr/local/lib/python3.7/dist-packages/seaborn/_decorators.py:43: FutureWarning: Pass the following variable as a keyword arg: x. From version 0.12, the only valid positional argument will be `data`, and passing other arguments without an explicit keyword will result in an error or misinterpretation.\n",
            "  FutureWarning\n"
          ]
        },
        {
          "output_type": "display_data",
          "data": {
            "text/plain": [
              "<Figure size 1080x432 with 1 Axes>"
            ],
            "image/png": "[encoded data removed]"
          },
          "metadata": {
            "needs_background": "light"
          }
        },
        {
          "output_type": "stream",
          "name": "stdout",
          "text": [
            "Education\n"
          ]
        },
        {
          "output_type": "stream",
          "name": "stderr",
          "text": [
            "/usr/local/lib/python3.7/dist-packages/seaborn/_decorators.py:43: FutureWarning: Pass the following variable as a keyword arg: x. From version 0.12, the only valid positional argument will be `data`, and passing other arguments without an explicit keyword will result in an error or misinterpretation.\n",
            "  FutureWarning\n"
          ]
        },
        {
          "output_type": "display_data",
          "data": {
            "text/plain": [
              "<Figure size 1080x432 with 1 Axes>"
            ],
            "image/png": "[encoded data removed]"
          },
          "metadata": {
            "needs_background": "light"
          }
        },
        {
          "output_type": "stream",
          "name": "stdout",
          "text": [
            "Default\n"
          ]
        },
        {
          "output_type": "stream",
          "name": "stderr",
          "text": [
            "/usr/local/lib/python3.7/dist-packages/seaborn/_decorators.py:43: FutureWarning: Pass the following variable as a keyword arg: x. From version 0.12, the only valid positional argument will be `data`, and passing other arguments without an explicit keyword will result in an error or misinterpretation.\n",
            "  FutureWarning\n"
          ]
        },
        {
          "output_type": "display_data",
          "data": {
            "text/plain": [
              "<Figure size 1080x432 with 1 Axes>"
            ],
            "image/png": "[encoded data removed]"
          },
          "metadata": {
            "needs_background": "light"
          }
        },
        {
          "output_type": "stream",
          "name": "stdout",
          "text": [
            "Housing\n"
          ]
        },
        {
          "output_type": "stream",
          "name": "stderr",
          "text": [
            "/usr/local/lib/python3.7/dist-packages/seaborn/_decorators.py:43: FutureWarning: Pass the following variable as a keyword arg: x. From version 0.12, the only valid positional argument will be `data`, and passing other arguments without an explicit keyword will result in an error or misinterpretation.\n",
            "  FutureWarning\n"
          ]
        },
        {
          "output_type": "display_data",
          "data": {
            "text/plain": [
              "<Figure size 1080x432 with 1 Axes>"
            ],
            "image/png": "[encoded data removed]"
          },
          "metadata": {
            "needs_background": "light"
          }
        },
        {
          "output_type": "stream",
          "name": "stdout",
          "text": [
            "Loan\n"
          ]
        },
        {
          "output_type": "stream",
          "name": "stderr",
          "text": [
            "/usr/local/lib/python3.7/dist-packages/seaborn/_decorators.py:43: FutureWarning: Pass the following variable as a keyword arg: x. From version 0.12, the only valid positional argument will be `data`, and passing other arguments without an explicit keyword will result in an error or misinterpretation.\n",
            "  FutureWarning\n"
          ]
        },
        {
          "output_type": "display_data",
          "data": {
            "text/plain": [
              "<Figure size 1080x432 with 1 Axes>"
            ],
            "image/png": "[encoded data removed]"
          },
          "metadata": {
            "needs_background": "light"
          }
        },
        {
          "output_type": "stream",
          "name": "stdout",
          "text": [
            "Contact\n"
          ]
        },
        {
          "output_type": "stream",
          "name": "stderr",
          "text": [
            "/usr/local/lib/python3.7/dist-packages/seaborn/_decorators.py:43: FutureWarning: Pass the following variable as a keyword arg: x. From version 0.12, the only valid positional argument will be `data`, and passing other arguments without an explicit keyword will result in an error or misinterpretation.\n",
            "  FutureWarning\n"
          ]
        },
        {
          "output_type": "display_data",
          "data": {
            "text/plain": [
              "<Figure size 1080x432 with 1 Axes>"
            ],
            "image/png": "[encoded data removed]"
          },
          "metadata": {
            "needs_background": "light"
          }
        },
        {
          "output_type": "stream",
          "name": "stdout",
          "text": [
            "Month\n"
          ]
        },
        {
          "output_type": "stream",
          "name": "stderr",
          "text": [
            "/usr/local/lib/python3.7/dist-packages/seaborn/_decorators.py:43: FutureWarning: Pass the following variable as a keyword arg: x. From version 0.12, the only valid positional argument will be `data`, and passing other arguments without an explicit keyword will result in an error or misinterpretation.\n",
            "  FutureWarning\n"
          ]
        },
        {
          "output_type": "display_data",
          "data": {
            "text/plain": [
              "<Figure size 1080x432 with 1 Axes>"
            ],
            "image/png": "[encoded data removed]"
          },
          "metadata": {
            "needs_background": "light"
          }
        },
        {
          "output_type": "stream",
          "name": "stdout",
          "text": [
            "Day_Of_Week\n"
          ]
        },
        {
          "output_type": "stream",
          "name": "stderr",
          "text": [
            "/usr/local/lib/python3.7/dist-packages/seaborn/_decorators.py:43: FutureWarning: Pass the following variable as a keyword arg: x. From version 0.12, the only valid positional argument will be `data`, and passing other arguments without an explicit keyword will result in an error or misinterpretation.\n",
            "  FutureWarning\n"
          ]
        },
        {
          "output_type": "display_data",
          "data": {
            "text/plain": [
              "<Figure size 1080x432 with 1 Axes>"
            ],
            "image/png": "[encoded data removed]"
          },
          "metadata": {
            "needs_background": "light"
          }
        },
        {
          "output_type": "stream",
          "name": "stdout",
          "text": [
            "Poutcome\n"
          ]
        },
        {
          "output_type": "stream",
          "name": "stderr",
          "text": [
            "/usr/local/lib/python3.7/dist-packages/seaborn/_decorators.py:43: FutureWarning: Pass the following variable as a keyword arg: x. From version 0.12, the only valid positional argument will be `data`, and passing other arguments without an explicit keyword will result in an error or misinterpretation.\n",
            "  FutureWarning\n"
          ]
        },
        {
          "output_type": "display_data",
          "data": {
            "text/plain": [
              "<Figure size 1080x432 with 1 Axes>"
            ],
            "image/png": "[encoded data removed]"
          },
          "metadata": {
            "needs_background": "light"
          }
        }
      ]
    },
    {
      "cell_type": "code",
      "source": [
        "sns.countplot(x=df[column],hue=df[\"y\"])"
      ],
      "metadata": {
        "colab": {
          "base_uri": "https://localhost:8080/",
          "height": 296
        },
        "id": "SNa8UUKAhcqg",
        "outputId": "f69d29a2-8e6e-4edd-d59a-704a90af1203"
      },
      "execution_count": 45,
      "outputs": [
        {
          "output_type": "execute_result",
          "data": {
            "text/plain": [
              "<matplotlib.axes._subplots.AxesSubplot at 0x7fe6397c9b50>"
            ]
          },
          "metadata": {},
          "execution_count": 45
        },
        {
          "output_type": "display_data",
          "data": {
            "text/plain": [
              "<Figure size 432x288 with 1 Axes>"
            ],
            "image/png": "[encoded data removed]"
          },
          "metadata": {
            "needs_background": "light"
          }
        }
      ]
    },
    {
      "cell_type": "code",
      "source": [
        "sns.countplot(x = df[\"poutcome\"], hue=df[\"y\"])"
      ],
      "metadata": {
        "colab": {
          "base_uri": "https://localhost:8080/",
          "height": 296
        },
        "id": "qzFw2zOZhslB",
        "outputId": "96389214-ee83-4ac1-a64c-4beea47b5d5b"
      },
      "execution_count": 46,
      "outputs": [
        {
          "output_type": "execute_result",
          "data": {
            "text/plain": [
              "<matplotlib.axes._subplots.AxesSubplot at 0x7fe6397de710>"
            ]
          },
          "metadata": {},
          "execution_count": 46
        },
        {
          "output_type": "display_data",
          "data": {
            "text/plain": [
              "<Figure size 432x288 with 1 Axes>"
            ],
            "image/png": "[encoded data removed]"
          },
          "metadata": {
            "needs_background": "light"
          }
        }
      ]
    },
    {
      "cell_type": "code",
      "source": [
        "df.drop([\"default\"], axis = 1, inplace=True)"
      ],
      "metadata": {
        "id": "JLj_uUk8h0Wu"
      },
      "execution_count": 47,
      "outputs": []
    },
    {
      "cell_type": "code",
      "source": [
        "df.drop([\"duration\"], axis = 1, inplace=True)"
      ],
      "metadata": {
        "id": "BAY1Pp6JiEwo"
      },
      "execution_count": 51,
      "outputs": []
    },
    {
      "cell_type": "code",
      "source": [
        "df.drop(['emp.var.rate', 'nr.employed'], axis = 1, inplace=True)"
      ],
      "metadata": {
        "id": "T0W2MafFihwX"
      },
      "execution_count": 56,
      "outputs": []
    },
    {
      "cell_type": "code",
      "source": [
        "df.drop(['campaign'], axis = 1, inplace=True)"
      ],
      "metadata": {
        "id": "-YdmDhO6juIK"
      },
      "execution_count": 71,
      "outputs": []
    },
    {
      "cell_type": "code",
      "source": [
        "df.dropna(inplace=True)"
      ],
      "metadata": {
        "id": "_gjPiPsmh4ps"
      },
      "execution_count": 72,
      "outputs": []
    },
    {
      "cell_type": "code",
      "source": [
        "df.shape"
      ],
      "metadata": {
        "colab": {
          "base_uri": "https://localhost:8080/"
        },
        "id": "2QiQMVR9h72M",
        "outputId": "466f1fe3-3837-4398-a758-aca2c4930367"
      },
      "execution_count": 73,
      "outputs": [
        {
          "output_type": "execute_result",
          "data": {
            "text/plain": [
              "(45107, 16)"
            ]
          },
          "metadata": {},
          "execution_count": 73
        }
      ]
    },
    {
      "cell_type": "code",
      "source": [
        "df.columns"
      ],
      "metadata": {
        "colab": {
          "base_uri": "https://localhost:8080/"
        },
        "id": "_V4zjZVhh_Gn",
        "outputId": "9b798505-5ef8-4ca2-a85a-d08f12edc1a5"
      },
      "execution_count": 74,
      "outputs": [
        {
          "output_type": "execute_result",
          "data": {
            "text/plain": [
              "Index(['age', 'job', 'marital', 'education', 'housing', 'loan', 'contact',\n",
              "       'month', 'day_of_week', 'pdays', 'previous', 'poutcome',\n",
              "       'cons.price.idx', 'cons.conf.idx', 'euribor3m', 'y'],\n",
              "      dtype='object')"
            ]
          },
          "metadata": {},
          "execution_count": 74
        }
      ]
    },
    {
      "cell_type": "code",
      "source": [
        "contact = pd.get_dummies(df.contact, drop_first=True)\n",
        "poutcome = pd.get_dummies(df.poutcome, drop_first=True)\n",
        "job = pd.get_dummies(df.job, drop_first=True)\n",
        "month = pd.get_dummies(df.month, drop_first=True)\n",
        "marital = pd.get_dummies(df.marital, drop_first=True)\n",
        "day_of_week = pd.get_dummies(df.day_of_week, drop_first=True)\n",
        "education = pd.get_dummies(df.education, drop_first=True)"
      ],
      "metadata": {
        "id": "8QBYrN5DjlRh"
      },
      "execution_count": 75,
      "outputs": []
    },
    {
      "cell_type": "code",
      "source": [
        "df = pd.concat([df, contact, poutcome , job, month, marital, day_of_week, education], axis=1)\n",
        "df.head()"
      ],
      "metadata": {
        "colab": {
          "base_uri": "https://localhost:8080/",
          "height": 299
        },
        "id": "hYzwZcCHj5lt",
        "outputId": "d7681a4b-27de-4d4e-af0b-ea058dc67da2"
      },
      "execution_count": 76,
      "outputs": [
        {
          "output_type": "execute_result",
          "data": {
            "text/plain": [
              "   age        job  marital    education housing loan    contact month  \\\n",
              "0   56  housemaid  married     basic.4y      no   no  telephone   may   \n",
              "1   57   services  married  high.school      no   no  telephone   may   \n",
              "2   37   services  married  high.school     yes   no  telephone   may   \n",
              "3   40     admin.  married     basic.6y      no   no  telephone   may   \n",
              "4   56   services  married  high.school      no  yes  telephone   may   \n",
              "\n",
              "  day_of_week  pdays  ...  mon thu  tue  wed  basic.6y basic.9y  high.school  \\\n",
              "0         mon    999  ...    1   0    0    0         0        0            0   \n",
              "1         mon    999  ...    1   0    0    0         0        0            1   \n",
              "2         mon    999  ...    1   0    0    0         0        0            1   \n",
              "3         mon    999  ...    1   0    0    0         1        0            0   \n",
              "4         mon    999  ...    1   0    0    0         0        0            1   \n",
              "\n",
              "   illiterate  professional.course  university.degree  \n",
              "0           0                    0                  0  \n",
              "1           0                    0                  0  \n",
              "2           0                    0                  0  \n",
              "3           0                    0                  0  \n",
              "4           0                    0                  0  \n",
              "\n",
              "[5 rows x 50 columns]"
            ],
            "text/html": [
              "\n",
              "  <div id=\"df-a3ef2aa2-40a9-4694-9436-4a25e6ffe45b\">\n",
              "    <div class=\"colab-df-container\">\n",
              "      <div>\n",
              "<style scoped>\n",
              "    .dataframe tbody tr th:only-of-type {\n",
              "        vertical-align: middle;\n",
              "    }\n",
              "\n",
              "    .dataframe tbody tr th {\n",
              "        vertical-align: top;\n",
              "    }\n",
              "\n",
              "    .dataframe thead th {\n",
              "        text-align: right;\n",
              "    }\n",
              "</style>\n",
              "<table border=\"1\" class=\"dataframe\">\n",
              "  <thead>\n",
              "    <tr style=\"text-align: right;\">\n",
              "      <th></th>\n",
              "      <th>age</th>\n",
              "      <th>job</th>\n",
              "      <th>marital</th>\n",
              "      <th>education</th>\n",
              "      <th>housing</th>\n",
              "      <th>loan</th>\n",
              "      <th>contact</th>\n",
              "      <th>month</th>\n",
              "      <th>day_of_week</th>\n",
              "      <th>pdays</th>\n",
              "      <th>...</th>\n",
              "      <th>mon</th>\n",
              "      <th>thu</th>\n",
              "      <th>tue</th>\n",
              "      <th>wed</th>\n",
              "      <th>basic.6y</th>\n",
              "      <th>basic.9y</th>\n",
              "      <th>high.school</th>\n",
              "      <th>illiterate</th>\n",
              "      <th>professional.course</th>\n",
              "      <th>university.degree</th>\n",
              "    </tr>\n",
              "  </thead>\n",
              "  <tbody>\n",
              "    <tr>\n",
              "      <th>0</th>\n",
              "      <td>56</td>\n",
              "      <td>housemaid</td>\n",
              "      <td>married</td>\n",
              "      <td>basic.4y</td>\n",
              "      <td>no</td>\n",
              "      <td>no</td>\n",
              "      <td>telephone</td>\n",
              "      <td>may</td>\n",
              "      <td>mon</td>\n",
              "      <td>999</td>\n",
              "      <td>...</td>\n",
              "      <td>1</td>\n",
              "      <td>0</td>\n",
              "      <td>0</td>\n",
              "      <td>0</td>\n",
              "      <td>0</td>\n",
              "      <td>0</td>\n",
              "      <td>0</td>\n",
              "      <td>0</td>\n",
              "      <td>0</td>\n",
              "      <td>0</td>\n",
              "    </tr>\n",
              "    <tr>\n",
              "      <th>1</th>\n",
              "      <td>57</td>\n",
              "      <td>services</td>\n",
              "      <td>married</td>\n",
              "      <td>high.school</td>\n",
              "      <td>no</td>\n",
              "      <td>no</td>\n",
              "      <td>telephone</td>\n",
              "      <td>may</td>\n",
              "      <td>mon</td>\n",
              "      <td>999</td>\n",
              "      <td>...</td>\n",
              "      <td>1</td>\n",
              "      <td>0</td>\n",
              "      <td>0</td>\n",
              "      <td>0</td>\n",
              "      <td>0</td>\n",
              "      <td>0</td>\n",
              "      <td>1</td>\n",
              "      <td>0</td>\n",
              "      <td>0</td>\n",
              "      <td>0</td>\n",
              "    </tr>\n",
              "    <tr>\n",
              "      <th>2</th>\n",
              "      <td>37</td>\n",
              "      <td>services</td>\n",
              "      <td>married</td>\n",
              "      <td>high.school</td>\n",
              "      <td>yes</td>\n",
              "      <td>no</td>\n",
              "      <td>telephone</td>\n",
              "      <td>may</td>\n",
              "      <td>mon</td>\n",
              "      <td>999</td>\n",
              "      <td>...</td>\n",
              "      <td>1</td>\n",
              "      <td>0</td>\n",
              "      <td>0</td>\n",
              "      <td>0</td>\n",
              "      <td>0</td>\n",
              "      <td>0</td>\n",
              "      <td>1</td>\n",
              "      <td>0</td>\n",
              "      <td>0</td>\n",
              "      <td>0</td>\n",
              "    </tr>\n",
              "    <tr>\n",
              "      <th>3</th>\n",
              "      <td>40</td>\n",
              "      <td>admin.</td>\n",
              "      <td>married</td>\n",
              "      <td>basic.6y</td>\n",
              "      <td>no</td>\n",
              "      <td>no</td>\n",
              "      <td>telephone</td>\n",
              "      <td>may</td>\n",
              "      <td>mon</td>\n",
              "      <td>999</td>\n",
              "      <td>...</td>\n",
              "      <td>1</td>\n",
              "      <td>0</td>\n",
              "      <td>0</td>\n",
              "      <td>0</td>\n",
              "      <td>1</td>\n",
              "      <td>0</td>\n",
              "      <td>0</td>\n",
              "      <td>0</td>\n",
              "      <td>0</td>\n",
              "      <td>0</td>\n",
              "    </tr>\n",
              "    <tr>\n",
              "      <th>4</th>\n",
              "      <td>56</td>\n",
              "      <td>services</td>\n",
              "      <td>married</td>\n",
              "      <td>high.school</td>\n",
              "      <td>no</td>\n",
              "      <td>yes</td>\n",
              "      <td>telephone</td>\n",
              "      <td>may</td>\n",
              "      <td>mon</td>\n",
              "      <td>999</td>\n",
              "      <td>...</td>\n",
              "      <td>1</td>\n",
              "      <td>0</td>\n",
              "      <td>0</td>\n",
              "      <td>0</td>\n",
              "      <td>0</td>\n",
              "      <td>0</td>\n",
              "      <td>1</td>\n",
              "      <td>0</td>\n",
              "      <td>0</td>\n",
              "      <td>0</td>\n",
              "    </tr>\n",
              "  </tbody>\n",
              "</table>\n",
              "<p>5 rows × 50 columns</p>\n",
              "</div>\n",
              "      <button class=\"colab-df-convert\" onclick=\"convertToInteractive('df-a3ef2aa2-40a9-4694-9436-4a25e6ffe45b')\"\n",
              "              title=\"Convert this dataframe to an interactive table.\"\n",
              "              style=\"display:none;\">\n",
              "        \n",
              "  <svg xmlns=\"http://www.w3.org/2000/svg\" height=\"24px\"viewBox=\"0 0 24 24\"\n",
              "       width=\"24px\">\n",
              "    <path d=\"M0 0h24v24H0V0z\" fill=\"none\"/>\n",
              "    <path d=\"M18.56 5.44l.94 2.06.94-2.06 2.06-.94-2.06-.94-.94-2.06-.94 2.06-2.06.94zm-11 1L8.5 8.5l.94-2.06 2.06-.94-2.06-.94L8.5 2.5l-.94 2.06-2.06.94zm10 10l.94 2.06.94-2.06 2.06-.94-2.06-.94-.94-2.06-.94 2.06-2.06.94z\"/><path d=\"M17.41 7.96l-1.37-1.37c-.4-.4-.92-.59-1.43-.59-.52 0-1.04.2-1.43.59L10.3 9.45l-7.72 7.72c-.78.78-.78 2.05 0 2.83L4 21.41c.39.39.9.59 1.41.59.51 0 1.02-.2 1.41-.59l7.78-7.78 2.81-2.81c.8-.78.8-2.07 0-2.86zM5.41 20L4 18.59l7.72-7.72 1.47 1.35L5.41 20z\"/>\n",
              "  </svg>\n",
              "      </button>\n",
              "      \n",
              "  <style>\n",
              "    .colab-df-container {\n",
              "      display:flex;\n",
              "      flex-wrap:wrap;\n",
              "      gap: 12px;\n",
              "    }\n",
              "\n",
              "    .colab-df-convert {\n",
              "      background-color: #E8F0FE;\n",
              "      border: none;\n",
              "      border-radius: 50%;\n",
              "      cursor: pointer;\n",
              "      display: none;\n",
              "      fill: #1967D2;\n",
              "      height: 32px;\n",
              "      padding: 0 0 0 0;\n",
              "      width: 32px;\n",
              "    }\n",
              "\n",
              "    .colab-df-convert:hover {\n",
              "      background-color: #E2EBFA;\n",
              "      box-shadow: 0px 1px 2px rgba(60, 64, 67, 0.3), 0px 1px 3px 1px rgba(60, 64, 67, 0.15);\n",
              "      fill: #174EA6;\n",
              "    }\n",
              "\n",
              "    [theme=dark] .colab-df-convert {\n",
              "      background-color: #3B4455;\n",
              "      fill: #D2E3FC;\n",
              "    }\n",
              "\n",
              "    [theme=dark] .colab-df-convert:hover {\n",
              "      background-color: #434B5C;\n",
              "      box-shadow: 0px 1px 3px 1px rgba(0, 0, 0, 0.15);\n",
              "      filter: drop-shadow(0px 1px 2px rgba(0, 0, 0, 0.3));\n",
              "      fill: #FFFFFF;\n",
              "    }\n",
              "  </style>\n",
              "\n",
              "      <script>\n",
              "        const buttonEl =\n",
              "          document.querySelector('#df-a3ef2aa2-40a9-4694-9436-4a25e6ffe45b button.colab-df-convert');\n",
              "        buttonEl.style.display =\n",
              "          google.colab.kernel.accessAllowed ? 'block' : 'none';\n",
              "\n",
              "        async function convertToInteractive(key) {\n",
              "          const element = document.querySelector('#df-a3ef2aa2-40a9-4694-9436-4a25e6ffe45b');\n",
              "          const dataTable =\n",
              "            await google.colab.kernel.invokeFunction('convertToInteractive',\n",
              "                                                     [key], {});\n",
              "          if (!dataTable) return;\n",
              "\n",
              "          const docLinkHtml = 'Like what you see? Visit the ' +\n",
              "            '<a target=\"_blank\" href=https://colab.research.google.com/notebooks/data_table.ipynb>data table notebook</a>'\n",
              "            + ' to learn more about interactive tables.';\n",
              "          element.innerHTML = '';\n",
              "          dataTable['output_type'] = 'display_data';\n",
              "          await google.colab.output.renderOutput(dataTable, element);\n",
              "          const docLink = document.createElement('div');\n",
              "          docLink.innerHTML = docLinkHtml;\n",
              "          element.appendChild(docLink);\n",
              "        }\n",
              "      </script>\n",
              "    </div>\n",
              "  </div>\n",
              "  "
            ]
          },
          "metadata": {},
          "execution_count": 76
        }
      ]
    },
    {
      "cell_type": "code",
      "source": [
        "df.drop(['contact', 'poutcome' , 'job', 'month', 'marital', 'day_of_week', 'education'], axis = 1, inplace = True)\n",
        "df.head()"
      ],
      "metadata": {
        "colab": {
          "base_uri": "https://localhost:8080/",
          "height": 299
        },
        "id": "nbH4g1PCj9Px",
        "outputId": "d4e8bb53-1edc-4adb-e955-b85232f7e7e0"
      },
      "execution_count": 77,
      "outputs": [
        {
          "output_type": "execute_result",
          "data": {
            "text/plain": [
              "   age housing loan  pdays  previous  cons.price.idx  cons.conf.idx  \\\n",
              "0   56      no   no    999         0          93.994          -36.4   \n",
              "1   57      no   no    999         0          93.994          -36.4   \n",
              "2   37     yes   no    999         0          93.994          -36.4   \n",
              "3   40      no   no    999         0          93.994          -36.4   \n",
              "4   56      no  yes    999         0          93.994          -36.4   \n",
              "\n",
              "   euribor3m   y  telephone  ...  mon  thu  tue  wed  basic.6y  basic.9y  \\\n",
              "0      4.857  no          1  ...    1    0    0    0         0         0   \n",
              "1      4.857  no          1  ...    1    0    0    0         0         0   \n",
              "2      4.857  no          1  ...    1    0    0    0         0         0   \n",
              "3      4.857  no          1  ...    1    0    0    0         1         0   \n",
              "4      4.857  no          1  ...    1    0    0    0         0         0   \n",
              "\n",
              "   high.school  illiterate  professional.course  university.degree  \n",
              "0            0           0                    0                  0  \n",
              "1            1           0                    0                  0  \n",
              "2            1           0                    0                  0  \n",
              "3            0           0                    0                  0  \n",
              "4            1           0                    0                  0  \n",
              "\n",
              "[5 rows x 43 columns]"
            ],
            "text/html": [
              "\n",
              "  <div id=\"df-5e53681b-2fc0-4c9f-8b4d-41f22417b121\">\n",
              "    <div class=\"colab-df-container\">\n",
              "      <div>\n",
              "<style scoped>\n",
              "    .dataframe tbody tr th:only-of-type {\n",
              "        vertical-align: middle;\n",
              "    }\n",
              "\n",
              "    .dataframe tbody tr th {\n",
              "        vertical-align: top;\n",
              "    }\n",
              "\n",
              "    .dataframe thead th {\n",
              "        text-align: right;\n",
              "    }\n",
              "</style>\n",
              "<table border=\"1\" class=\"dataframe\">\n",
              "  <thead>\n",
              "    <tr style=\"text-align: right;\">\n",
              "      <th></th>\n",
              "      <th>age</th>\n",
              "      <th>housing</th>\n",
              "      <th>loan</th>\n",
              "      <th>pdays</th>\n",
              "      <th>previous</th>\n",
              "      <th>cons.price.idx</th>\n",
              "      <th>cons.conf.idx</th>\n",
              "      <th>euribor3m</th>\n",
              "      <th>y</th>\n",
              "      <th>telephone</th>\n",
              "      <th>...</th>\n",
              "      <th>mon</th>\n",
              "      <th>thu</th>\n",
              "      <th>tue</th>\n",
              "      <th>wed</th>\n",
              "      <th>basic.6y</th>\n",
              "      <th>basic.9y</th>\n",
              "      <th>high.school</th>\n",
              "      <th>illiterate</th>\n",
              "      <th>professional.course</th>\n",
              "      <th>university.degree</th>\n",
              "    </tr>\n",
              "  </thead>\n",
              "  <tbody>\n",
              "    <tr>\n",
              "      <th>0</th>\n",
              "      <td>56</td>\n",
              "      <td>no</td>\n",
              "      <td>no</td>\n",
              "      <td>999</td>\n",
              "      <td>0</td>\n",
              "      <td>93.994</td>\n",
              "      <td>-36.4</td>\n",
              "      <td>4.857</td>\n",
              "      <td>no</td>\n",
              "      <td>1</td>\n",
              "      <td>...</td>\n",
              "      <td>1</td>\n",
              "      <td>0</td>\n",
              "      <td>0</td>\n",
              "      <td>0</td>\n",
              "      <td>0</td>\n",
              "      <td>0</td>\n",
              "      <td>0</td>\n",
              "      <td>0</td>\n",
              "      <td>0</td>\n",
              "      <td>0</td>\n",
              "    </tr>\n",
              "    <tr>\n",
              "      <th>1</th>\n",
              "      <td>57</td>\n",
              "      <td>no</td>\n",
              "      <td>no</td>\n",
              "      <td>999</td>\n",
              "      <td>0</td>\n",
              "      <td>93.994</td>\n",
              "      <td>-36.4</td>\n",
              "      <td>4.857</td>\n",
              "      <td>no</td>\n",
              "      <td>1</td>\n",
              "      <td>...</td>\n",
              "      <td>1</td>\n",
              "      <td>0</td>\n",
              "      <td>0</td>\n",
              "      <td>0</td>\n",
              "      <td>0</td>\n",
              "      <td>0</td>\n",
              "      <td>1</td>\n",
              "      <td>0</td>\n",
              "      <td>0</td>\n",
              "      <td>0</td>\n",
              "    </tr>\n",
              "    <tr>\n",
              "      <th>2</th>\n",
              "      <td>37</td>\n",
              "      <td>yes</td>\n",
              "      <td>no</td>\n",
              "      <td>999</td>\n",
              "      <td>0</td>\n",
              "      <td>93.994</td>\n",
              "      <td>-36.4</td>\n",
              "      <td>4.857</td>\n",
              "      <td>no</td>\n",
              "      <td>1</td>\n",
              "      <td>...</td>\n",
              "      <td>1</td>\n",
              "      <td>0</td>\n",
              "      <td>0</td>\n",
              "      <td>0</td>\n",
              "      <td>0</td>\n",
              "      <td>0</td>\n",
              "      <td>1</td>\n",
              "      <td>0</td>\n",
              "      <td>0</td>\n",
              "      <td>0</td>\n",
              "    </tr>\n",
              "    <tr>\n",
              "      <th>3</th>\n",
              "      <td>40</td>\n",
              "      <td>no</td>\n",
              "      <td>no</td>\n",
              "      <td>999</td>\n",
              "      <td>0</td>\n",
              "      <td>93.994</td>\n",
              "      <td>-36.4</td>\n",
              "      <td>4.857</td>\n",
              "      <td>no</td>\n",
              "      <td>1</td>\n",
              "      <td>...</td>\n",
              "      <td>1</td>\n",
              "      <td>0</td>\n",
              "      <td>0</td>\n",
              "      <td>0</td>\n",
              "      <td>1</td>\n",
              "      <td>0</td>\n",
              "      <td>0</td>\n",
              "      <td>0</td>\n",
              "      <td>0</td>\n",
              "      <td>0</td>\n",
              "    </tr>\n",
              "    <tr>\n",
              "      <th>4</th>\n",
              "      <td>56</td>\n",
              "      <td>no</td>\n",
              "      <td>yes</td>\n",
              "      <td>999</td>\n",
              "      <td>0</td>\n",
              "      <td>93.994</td>\n",
              "      <td>-36.4</td>\n",
              "      <td>4.857</td>\n",
              "      <td>no</td>\n",
              "      <td>1</td>\n",
              "      <td>...</td>\n",
              "      <td>1</td>\n",
              "      <td>0</td>\n",
              "      <td>0</td>\n",
              "      <td>0</td>\n",
              "      <td>0</td>\n",
              "      <td>0</td>\n",
              "      <td>1</td>\n",
              "      <td>0</td>\n",
              "      <td>0</td>\n",
              "      <td>0</td>\n",
              "    </tr>\n",
              "  </tbody>\n",
              "</table>\n",
              "<p>5 rows × 43 columns</p>\n",
              "</div>\n",
              "      <button class=\"colab-df-convert\" onclick=\"convertToInteractive('df-5e53681b-2fc0-4c9f-8b4d-41f22417b121')\"\n",
              "              title=\"Convert this dataframe to an interactive table.\"\n",
              "              style=\"display:none;\">\n",
              "        \n",
              "  <svg xmlns=\"http://www.w3.org/2000/svg\" height=\"24px\"viewBox=\"0 0 24 24\"\n",
              "       width=\"24px\">\n",
              "    <path d=\"M0 0h24v24H0V0z\" fill=\"none\"/>\n",
              "    <path d=\"M18.56 5.44l.94 2.06.94-2.06 2.06-.94-2.06-.94-.94-2.06-.94 2.06-2.06.94zm-11 1L8.5 8.5l.94-2.06 2.06-.94-2.06-.94L8.5 2.5l-.94 2.06-2.06.94zm10 10l.94 2.06.94-2.06 2.06-.94-2.06-.94-.94-2.06-.94 2.06-2.06.94z\"/><path d=\"M17.41 7.96l-1.37-1.37c-.4-.4-.92-.59-1.43-.59-.52 0-1.04.2-1.43.59L10.3 9.45l-7.72 7.72c-.78.78-.78 2.05 0 2.83L4 21.41c.39.39.9.59 1.41.59.51 0 1.02-.2 1.41-.59l7.78-7.78 2.81-2.81c.8-.78.8-2.07 0-2.86zM5.41 20L4 18.59l7.72-7.72 1.47 1.35L5.41 20z\"/>\n",
              "  </svg>\n",
              "      </button>\n",
              "      \n",
              "  <style>\n",
              "    .colab-df-container {\n",
              "      display:flex;\n",
              "      flex-wrap:wrap;\n",
              "      gap: 12px;\n",
              "    }\n",
              "\n",
              "    .colab-df-convert {\n",
              "      background-color: #E8F0FE;\n",
              "      border: none;\n",
              "      border-radius: 50%;\n",
              "      cursor: pointer;\n",
              "      display: none;\n",
              "      fill: #1967D2;\n",
              "      height: 32px;\n",
              "      padding: 0 0 0 0;\n",
              "      width: 32px;\n",
              "    }\n",
              "\n",
              "    .colab-df-convert:hover {\n",
              "      background-color: #E2EBFA;\n",
              "      box-shadow: 0px 1px 2px rgba(60, 64, 67, 0.3), 0px 1px 3px 1px rgba(60, 64, 67, 0.15);\n",
              "      fill: #174EA6;\n",
              "    }\n",
              "\n",
              "    [theme=dark] .colab-df-convert {\n",
              "      background-color: #3B4455;\n",
              "      fill: #D2E3FC;\n",
              "    }\n",
              "\n",
              "    [theme=dark] .colab-df-convert:hover {\n",
              "      background-color: #434B5C;\n",
              "      box-shadow: 0px 1px 3px 1px rgba(0, 0, 0, 0.15);\n",
              "      filter: drop-shadow(0px 1px 2px rgba(0, 0, 0, 0.3));\n",
              "      fill: #FFFFFF;\n",
              "    }\n",
              "  </style>\n",
              "\n",
              "      <script>\n",
              "        const buttonEl =\n",
              "          document.querySelector('#df-5e53681b-2fc0-4c9f-8b4d-41f22417b121 button.colab-df-convert');\n",
              "        buttonEl.style.display =\n",
              "          google.colab.kernel.accessAllowed ? 'block' : 'none';\n",
              "\n",
              "        async function convertToInteractive(key) {\n",
              "          const element = document.querySelector('#df-5e53681b-2fc0-4c9f-8b4d-41f22417b121');\n",
              "          const dataTable =\n",
              "            await google.colab.kernel.invokeFunction('convertToInteractive',\n",
              "                                                     [key], {});\n",
              "          if (!dataTable) return;\n",
              "\n",
              "          const docLinkHtml = 'Like what you see? Visit the ' +\n",
              "            '<a target=\"_blank\" href=https://colab.research.google.com/notebooks/data_table.ipynb>data table notebook</a>'\n",
              "            + ' to learn more about interactive tables.';\n",
              "          element.innerHTML = '';\n",
              "          dataTable['output_type'] = 'display_data';\n",
              "          await google.colab.output.renderOutput(dataTable, element);\n",
              "          const docLink = document.createElement('div');\n",
              "          docLink.innerHTML = docLinkHtml;\n",
              "          element.appendChild(docLink);\n",
              "        }\n",
              "      </script>\n",
              "    </div>\n",
              "  </div>\n",
              "  "
            ]
          },
          "metadata": {},
          "execution_count": 77
        }
      ]
    },
    {
      "cell_type": "code",
      "source": [
        "df.columns"
      ],
      "metadata": {
        "colab": {
          "base_uri": "https://localhost:8080/"
        },
        "id": "8nNROlTCkAq3",
        "outputId": "4edf9755-7b7d-4eeb-f281-40b04f8b7922"
      },
      "execution_count": 78,
      "outputs": [
        {
          "output_type": "execute_result",
          "data": {
            "text/plain": [
              "Index(['age', 'housing', 'loan', 'pdays', 'previous', 'cons.price.idx',\n",
              "       'cons.conf.idx', 'euribor3m', 'y', 'telephone', 'nonexistent',\n",
              "       'success', 'blue-collar', 'entrepreneur', 'housemaid', 'management',\n",
              "       'retired', 'self-employed', 'services', 'student', 'technician',\n",
              "       'unemployed', 'aug', 'dec', 'jul', 'jun', 'mar', 'may', 'nov', 'oct',\n",
              "       'sep', 'married', 'single', 'mon', 'thu', 'tue', 'wed', 'basic.6y',\n",
              "       'basic.9y', 'high.school', 'illiterate', 'professional.course',\n",
              "       'university.degree'],\n",
              "      dtype='object')"
            ]
          },
          "metadata": {},
          "execution_count": 78
        }
      ]
    },
    {
      "cell_type": "code",
      "source": [
        "sns.heatmap(df.corr(), annot=True, cmap='Spectral')\n",
        "plt.figure(figsize=(15,14))\n",
        "plt.show()"
      ],
      "metadata": {
        "colab": {
          "base_uri": "https://localhost:8080/",
          "height": 374
        },
        "id": "HoUdsK_akEXl",
        "outputId": "02765899-9213-4649-e5bc-ed1172db58c9"
      },
      "execution_count": 82,
      "outputs": [
        {
          "output_type": "display_data",
          "data": {
            "text/plain": [
              "<Figure size 432x288 with 2 Axes>"
            ],
            "image/png": "[encoded data removed]"
          },
          "metadata": {
            "needs_background": "light"
          }
        },
        {
          "output_type": "display_data",
          "data": {
            "text/plain": [
              "<Figure size 1080x1728 with 0 Axes>"
            ]
          },
          "metadata": {}
        }
      ]
    },
    {
      "cell_type": "code",
      "source": [
        "df.drop(['previous', 'pdays'], axis = 1, inplace = True)"
      ],
      "metadata": {
        "id": "mPMcTcCMkIUH"
      },
      "execution_count": 81,
      "outputs": []
    },
    {
      "cell_type": "code",
      "source": [
        "df.info()"
      ],
      "metadata": {
        "colab": {
          "base_uri": "https://localhost:8080/"
        },
        "id": "JH-5Z80MkWgv",
        "outputId": "17d8695b-c231-4a6e-9f34-528c14bf6235"
      },
      "execution_count": 83,
      "outputs": [
        {
          "output_type": "stream",
          "name": "stdout",
          "text": [
            "<class 'pandas.core.frame.DataFrame'>\n",
            "Int64Index: 45107 entries, 0 to 48518\n",
            "Data columns (total 41 columns):\n",
            " #   Column               Non-Null Count  Dtype  \n",
            "---  ------               --------------  -----  \n",
            " 0   age                  45107 non-null  int64  \n",
            " 1   housing              45107 non-null  object \n",
            " 2   loan                 45107 non-null  object \n",
            " 3   cons.price.idx       45107 non-null  float64\n",
            " 4   cons.conf.idx        45107 non-null  float64\n",
            " 5   euribor3m            45107 non-null  float64\n",
            " 6   y                    45107 non-null  object \n",
            " 7   telephone            45107 non-null  uint8  \n",
            " 8   nonexistent          45107 non-null  uint8  \n",
            " 9   success              45107 non-null  uint8  \n",
            " 10  blue-collar          45107 non-null  uint8  \n",
            " 11  entrepreneur         45107 non-null  uint8  \n",
            " 12  housemaid            45107 non-null  uint8  \n",
            " 13  management           45107 non-null  uint8  \n",
            " 14  retired              45107 non-null  uint8  \n",
            " 15  self-employed        45107 non-null  uint8  \n",
            " 16  services             45107 non-null  uint8  \n",
            " 17  student              45107 non-null  uint8  \n",
            " 18  technician           45107 non-null  uint8  \n",
            " 19  unemployed           45107 non-null  uint8  \n",
            " 20  aug                  45107 non-null  uint8  \n",
            " 21  dec                  45107 non-null  uint8  \n",
            " 22  jul                  45107 non-null  uint8  \n",
            " 23  jun                  45107 non-null  uint8  \n",
            " 24  mar                  45107 non-null  uint8  \n",
            " 25  may                  45107 non-null  uint8  \n",
            " 26  nov                  45107 non-null  uint8  \n",
            " 27  oct                  45107 non-null  uint8  \n",
            " 28  sep                  45107 non-null  uint8  \n",
            " 29  married              45107 non-null  uint8  \n",
            " 30  single               45107 non-null  uint8  \n",
            " 31  mon                  45107 non-null  uint8  \n",
            " 32  thu                  45107 non-null  uint8  \n",
            " 33  tue                  45107 non-null  uint8  \n",
            " 34  wed                  45107 non-null  uint8  \n",
            " 35  basic.6y             45107 non-null  uint8  \n",
            " 36  basic.9y             45107 non-null  uint8  \n",
            " 37  high.school          45107 non-null  uint8  \n",
            " 38  illiterate           45107 non-null  uint8  \n",
            " 39  professional.course  45107 non-null  uint8  \n",
            " 40  university.degree    45107 non-null  uint8  \n",
            "dtypes: float64(3), int64(1), object(3), uint8(34)\n",
            "memory usage: 4.2+ MB\n"
          ]
        }
      ]
    },
    {
      "cell_type": "code",
      "source": [
        "from sklearn.preprocessing import LabelEncoder\n",
        "lr=LabelEncoder()\n",
        "df['Housing']=lr.fit_transform(df[\"housing\"])"
      ],
      "metadata": {
        "id": "4j4p_ITBkdmW"
      },
      "execution_count": 88,
      "outputs": []
    },
    {
      "cell_type": "code",
      "source": [
        "df['loan1']=lr.fit_transform(df[\"loan\"])"
      ],
      "metadata": {
        "id": "FislAh6ak-dt"
      },
      "execution_count": 89,
      "outputs": []
    },
    {
      "cell_type": "code",
      "source": [
        "df.drop(['housing','loan'],axis=1,inplace=True)"
      ],
      "metadata": {
        "id": "fTWCepSulHAu"
      },
      "execution_count": 93,
      "outputs": []
    },
    {
      "cell_type": "code",
      "source": [
        "df.columns"
      ],
      "metadata": {
        "colab": {
          "base_uri": "https://localhost:8080/"
        },
        "id": "uHtIQupBlVh7",
        "outputId": "2b36db70-a543-451a-842b-d5755264857c"
      },
      "execution_count": 94,
      "outputs": [
        {
          "output_type": "execute_result",
          "data": {
            "text/plain": [
              "Index(['age', 'cons.price.idx', 'cons.conf.idx', 'euribor3m', 'y', 'telephone',\n",
              "       'nonexistent', 'success', 'blue-collar', 'entrepreneur', 'housemaid',\n",
              "       'management', 'retired', 'self-employed', 'services', 'student',\n",
              "       'technician', 'unemployed', 'aug', 'dec', 'jul', 'jun', 'mar', 'may',\n",
              "       'nov', 'oct', 'sep', 'married', 'single', 'mon', 'thu', 'tue', 'wed',\n",
              "       'basic.6y', 'basic.9y', 'high.school', 'illiterate',\n",
              "       'professional.course', 'university.degree', 'Housing', 'loan1'],\n",
              "      dtype='object')"
            ]
          },
          "metadata": {},
          "execution_count": 94
        }
      ]
    },
    {
      "cell_type": "code",
      "source": [
        "y=df['y']"
      ],
      "metadata": {
        "id": "nBcUX5d4l6bu"
      },
      "execution_count": 96,
      "outputs": []
    },
    {
      "cell_type": "code",
      "source": [
        "x=df[['age', 'cons.price.idx', 'cons.conf.idx', 'euribor3m','telephone',\n",
        "       'nonexistent', 'success', 'blue-collar', 'entrepreneur', 'housemaid',\n",
        "       'management', 'retired', 'self-employed', 'services', 'student',\n",
        "       'technician', 'unemployed', 'aug', 'dec', 'jul', 'jun', 'mar', 'may',\n",
        "       'nov', 'oct', 'sep', 'married', 'single', 'mon', 'thu', 'tue', 'wed',\n",
        "       'basic.6y', 'basic.9y', 'high.school', 'illiterate',\n",
        "       'professional.course', 'university.degree', 'Housing', 'loan1']]"
      ],
      "metadata": {
        "id": "EkQkB0cMnlgd"
      },
      "execution_count": 108,
      "outputs": []
    },
    {
      "cell_type": "code",
      "source": [
        "df.info()"
      ],
      "metadata": {
        "colab": {
          "base_uri": "https://localhost:8080/"
        },
        "id": "BEUGW_00mMYz",
        "outputId": "5c0412f2-047b-4935-a564-eaa281c1f7aa"
      },
      "execution_count": 109,
      "outputs": [
        {
          "output_type": "stream",
          "name": "stdout",
          "text": [
            "<class 'pandas.core.frame.DataFrame'>\n",
            "Int64Index: 45107 entries, 0 to 48518\n",
            "Data columns (total 41 columns):\n",
            " #   Column               Non-Null Count  Dtype  \n",
            "---  ------               --------------  -----  \n",
            " 0   age                  45107 non-null  int64  \n",
            " 1   cons.price.idx       45107 non-null  float64\n",
            " 2   cons.conf.idx        45107 non-null  float64\n",
            " 3   euribor3m            45107 non-null  float64\n",
            " 4   y                    45107 non-null  object \n",
            " 5   telephone            45107 non-null  uint8  \n",
            " 6   nonexistent          45107 non-null  uint8  \n",
            " 7   success              45107 non-null  uint8  \n",
            " 8   blue-collar          45107 non-null  uint8  \n",
            " 9   entrepreneur         45107 non-null  uint8  \n",
            " 10  housemaid            45107 non-null  uint8  \n",
            " 11  management           45107 non-null  uint8  \n",
            " 12  retired              45107 non-null  uint8  \n",
            " 13  self-employed        45107 non-null  uint8  \n",
            " 14  services             45107 non-null  uint8  \n",
            " 15  student              45107 non-null  uint8  \n",
            " 16  technician           45107 non-null  uint8  \n",
            " 17  unemployed           45107 non-null  uint8  \n",
            " 18  aug                  45107 non-null  uint8  \n",
            " 19  dec                  45107 non-null  uint8  \n",
            " 20  jul                  45107 non-null  uint8  \n",
            " 21  jun                  45107 non-null  uint8  \n",
            " 22  mar                  45107 non-null  uint8  \n",
            " 23  may                  45107 non-null  uint8  \n",
            " 24  nov                  45107 non-null  uint8  \n",
            " 25  oct                  45107 non-null  uint8  \n",
            " 26  sep                  45107 non-null  uint8  \n",
            " 27  married              45107 non-null  uint8  \n",
            " 28  single               45107 non-null  uint8  \n",
            " 29  mon                  45107 non-null  uint8  \n",
            " 30  thu                  45107 non-null  uint8  \n",
            " 31  tue                  45107 non-null  uint8  \n",
            " 32  wed                  45107 non-null  uint8  \n",
            " 33  basic.6y             45107 non-null  uint8  \n",
            " 34  basic.9y             45107 non-null  uint8  \n",
            " 35  high.school          45107 non-null  uint8  \n",
            " 36  illiterate           45107 non-null  uint8  \n",
            " 37  professional.course  45107 non-null  uint8  \n",
            " 38  university.degree    45107 non-null  uint8  \n",
            " 39  Housing              45107 non-null  int64  \n",
            " 40  loan1                45107 non-null  int64  \n",
            "dtypes: float64(3), int64(3), object(1), uint8(34)\n",
            "memory usage: 4.2+ MB\n"
          ]
        }
      ]
    },
    {
      "cell_type": "code",
      "source": [
        "from sklearn.preprocessing import StandardScaler\n",
        "st=StandardScaler()\n",
        "scaler=st.fit_transform(x)\n",
        "x=pd.DataFrame(scaler,columns=x.columns)"
      ],
      "metadata": {
        "id": "UsuMe1kUmWJM"
      },
      "execution_count": 111,
      "outputs": []
    },
    {
      "cell_type": "code",
      "source": [
        "from sklearn.decomposition import PCA\n",
        "pca = PCA(n_components=35)\n",
        "principalComponents = pca.fit_transform(x)\n",
        "principalDf = pd.DataFrame(data = principalComponents)"
      ],
      "metadata": {
        "id": "F8jMdhOanfdS"
      },
      "execution_count": 112,
      "outputs": []
    },
    {
      "cell_type": "code",
      "source": [
        "from sklearn.model_selection import train_test_split\n",
        "x_train,x_test,y_train,y_test=train_test_split(principalDf,y,test_size=0.3,random_state=123)"
      ],
      "metadata": {
        "id": "NDJPif7in2IG"
      },
      "execution_count": 113,
      "outputs": []
    },
    {
      "cell_type": "code",
      "source": [
        "x_train.shape,x_test.shape,y_train.shape,y_test.shape"
      ],
      "metadata": {
        "colab": {
          "base_uri": "https://localhost:8080/"
        },
        "id": "nS0f5t9ioqLl",
        "outputId": "1acc0dae-f1b3-4870-ee52-06d4cfa4c573"
      },
      "execution_count": 114,
      "outputs": [
        {
          "output_type": "execute_result",
          "data": {
            "text/plain": [
              "((31574, 35), (13533, 35), (31574,), (13533,))"
            ]
          },
          "metadata": {},
          "execution_count": 114
        }
      ]
    },
    {
      "cell_type": "code",
      "source": [
        "from sklearn.linear_model import LogisticRegression\n",
        "from sklearn.svm import SVC\n",
        "from sklearn.ensemble import AdaBoostClassifier\n",
        "from sklearn.naive_bayes import GaussianNB\n",
        "from sklearn.neighbors import KNeighborsClassifier\n",
        "from sklearn.metrics import confusion_matrix,classification_report,accuracy_score"
      ],
      "metadata": {
        "id": "6rH2a6DuoxHD"
      },
      "execution_count": 123,
      "outputs": []
    },
    {
      "cell_type": "code",
      "source": [
        "#Logistic Regression\n",
        "model=LogisticRegression()\n",
        "model.fit(x_train,y_train)\n",
        "ypred=model.predict(x_test)\n",
        "print(accuracy_score(y_test,ypred))"
      ],
      "metadata": {
        "colab": {
          "base_uri": "https://localhost:8080/"
        },
        "id": "YsvUHd57pg3e",
        "outputId": "50d6b245-94b8-48b3-ac2c-3f7eda90e5d9"
      },
      "execution_count": 124,
      "outputs": [
        {
          "output_type": "stream",
          "name": "stdout",
          "text": [
            "0.9023867582945393\n"
          ]
        }
      ]
    },
    {
      "cell_type": "code",
      "source": [
        "confusion_matrix(y_test,ypred)"
      ],
      "metadata": {
        "colab": {
          "base_uri": "https://localhost:8080/"
        },
        "id": "pQzYNoJ-rHdN",
        "outputId": "7a026f25-b175-44a1-80b2-3177968a2237"
      },
      "execution_count": 129,
      "outputs": [
        {
          "output_type": "execute_result",
          "data": {
            "text/plain": [
              "array([[11976,   170],\n",
              "       [ 1151,   236]])"
            ]
          },
          "metadata": {},
          "execution_count": 129
        }
      ]
    },
    {
      "cell_type": "code",
      "source": [
        "print(\"Logistic Regression\")\n",
        "confusion_matrix(y_test,ypred)\n",
        "print(classification_report(y_test,ypred))"
      ],
      "metadata": {
        "colab": {
          "base_uri": "https://localhost:8080/"
        },
        "id": "1jko363lqEpn",
        "outputId": "f5531c6d-071d-4e7d-df35-f439df4b9dc9"
      },
      "execution_count": 128,
      "outputs": [
        {
          "output_type": "stream",
          "name": "stdout",
          "text": [
            "Logistic Regression\n",
            "              precision    recall  f1-score   support\n",
            "\n",
            "          no       0.91      0.99      0.95     12146\n",
            "         yes       0.58      0.17      0.26      1387\n",
            "\n",
            "    accuracy                           0.90     13533\n",
            "   macro avg       0.75      0.58      0.61     13533\n",
            "weighted avg       0.88      0.90      0.88     13533\n",
            "\n"
          ]
        }
      ]
    },
    {
      "cell_type": "code",
      "source": [
        "#Adaboostclassifier\n",
        "ada=AdaBoostClassifier()\n",
        "ada.fit(x_train,y_train)\n",
        "ypred1=ada.predict(x_test)\n",
        "print(accuracy_score(y_test,ypred1))"
      ],
      "metadata": {
        "colab": {
          "base_uri": "https://localhost:8080/"
        },
        "id": "tWhz4cYfq4nh",
        "outputId": "8d61084e-3c84-4497-e4a9-2f68281d1ffb"
      },
      "execution_count": 131,
      "outputs": [
        {
          "output_type": "stream",
          "name": "stdout",
          "text": [
            "0.9003177418163009\n"
          ]
        }
      ]
    },
    {
      "cell_type": "code",
      "source": [
        "confusion_matrix(y_test,ypred1)"
      ],
      "metadata": {
        "colab": {
          "base_uri": "https://localhost:8080/"
        },
        "id": "4wtoow4GrZma",
        "outputId": "f380bf5c-3e41-41da-9571-e3e00eea8fca"
      },
      "execution_count": 134,
      "outputs": [
        {
          "output_type": "execute_result",
          "data": {
            "text/plain": [
              "array([[11930,   216],\n",
              "       [ 1133,   254]])"
            ]
          },
          "metadata": {},
          "execution_count": 134
        }
      ]
    },
    {
      "cell_type": "code",
      "source": [
        "print('AdaBoosting')\n",
        "confusion_matrix(y_test,ypred1)\n",
        "print(classification_report(y_test,ypred1))"
      ],
      "metadata": {
        "colab": {
          "base_uri": "https://localhost:8080/"
        },
        "id": "1Ets7qGUrp1l",
        "outputId": "433a06ec-fae7-4418-dae4-faa5a8e71191"
      },
      "execution_count": 133,
      "outputs": [
        {
          "output_type": "stream",
          "name": "stdout",
          "text": [
            "AdaBoosting\n",
            "              precision    recall  f1-score   support\n",
            "\n",
            "          no       0.91      0.98      0.95     12146\n",
            "         yes       0.54      0.18      0.27      1387\n",
            "\n",
            "    accuracy                           0.90     13533\n",
            "   macro avg       0.73      0.58      0.61     13533\n",
            "weighted avg       0.88      0.90      0.88     13533\n",
            "\n"
          ]
        }
      ]
    },
    {
      "cell_type": "code",
      "source": [
        "svm=SVC()\n",
        "svm.fit(x_train,y_train)\n",
        "ypred2=svm.predict(x_test)\n",
        "print(accuracy_score(y_test,ypred2))"
      ],
      "metadata": {
        "colab": {
          "base_uri": "https://localhost:8080/"
        },
        "id": "e9ppx0GKrxN5",
        "outputId": "74528687-f19c-43dc-b3fd-2f4cd34eae69"
      },
      "execution_count": 135,
      "outputs": [
        {
          "output_type": "stream",
          "name": "stdout",
          "text": [
            "0.9020911845119338\n"
          ]
        }
      ]
    },
    {
      "cell_type": "code",
      "source": [
        "confusion_matrix(y_test,ypred2)"
      ],
      "metadata": {
        "colab": {
          "base_uri": "https://localhost:8080/"
        },
        "id": "-TzJ1XaYr-JH",
        "outputId": "c8961e9a-495e-479b-e283-f4348e7c02c0"
      },
      "execution_count": 136,
      "outputs": [
        {
          "output_type": "execute_result",
          "data": {
            "text/plain": [
              "array([[11977,   169],\n",
              "       [ 1156,   231]])"
            ]
          },
          "metadata": {},
          "execution_count": 136
        }
      ]
    },
    {
      "cell_type": "code",
      "source": [
        "print('svm')\n",
        "confusion_matrix(y_test,ypred2)\n",
        "print(classification_report(y_test,ypred2))"
      ],
      "metadata": {
        "colab": {
          "base_uri": "https://localhost:8080/"
        },
        "id": "FqybvHKGsVhH",
        "outputId": "e47e3170-5b8d-4d90-feb8-1c3a4436dd86"
      },
      "execution_count": 137,
      "outputs": [
        {
          "output_type": "stream",
          "name": "stdout",
          "text": [
            "svm\n",
            "              precision    recall  f1-score   support\n",
            "\n",
            "          no       0.91      0.99      0.95     12146\n",
            "         yes       0.58      0.17      0.26      1387\n",
            "\n",
            "    accuracy                           0.90     13533\n",
            "   macro avg       0.74      0.58      0.60     13533\n",
            "weighted avg       0.88      0.90      0.88     13533\n",
            "\n"
          ]
        }
      ]
    },
    {
      "cell_type": "code",
      "source": [
        "knn=KNeighborsClassifier()\n",
        "knn.fit(x_train,y_train)\n",
        "ypred3=knn.predict(x_test)\n",
        "print(accuracy_score(y_test,ypred3))"
      ],
      "metadata": {
        "colab": {
          "base_uri": "https://localhost:8080/"
        },
        "id": "tW1VlHJusqu0",
        "outputId": "d9f44c65-899c-40be-c7a7-81428a042cc9"
      },
      "execution_count": 138,
      "outputs": [
        {
          "output_type": "stream",
          "name": "stdout",
          "text": [
            "0.8972142170989433\n"
          ]
        }
      ]
    },
    {
      "cell_type": "code",
      "source": [
        "confusion_matrix(y_test,ypred3)"
      ],
      "metadata": {
        "colab": {
          "base_uri": "https://localhost:8080/"
        },
        "id": "Nf3AHDK6tDdq",
        "outputId": "4420ec08-06e1-4eba-d003-a3a0f4ef0960"
      },
      "execution_count": 139,
      "outputs": [
        {
          "output_type": "execute_result",
          "data": {
            "text/plain": [
              "array([[11819,   327],\n",
              "       [ 1064,   323]])"
            ]
          },
          "metadata": {},
          "execution_count": 139
        }
      ]
    },
    {
      "cell_type": "code",
      "source": [
        "print('knn')\n",
        "confusion_matrix(y_test,ypred3)\n",
        "print(classification_report(y_test,ypred3))"
      ],
      "metadata": {
        "colab": {
          "base_uri": "https://localhost:8080/"
        },
        "id": "w-fa17R0tGKs",
        "outputId": "1c37b5b0-be25-4d99-b6df-dc606c0349f4"
      },
      "execution_count": 140,
      "outputs": [
        {
          "output_type": "stream",
          "name": "stdout",
          "text": [
            "knn\n",
            "              precision    recall  f1-score   support\n",
            "\n",
            "          no       0.92      0.97      0.94     12146\n",
            "         yes       0.50      0.23      0.32      1387\n",
            "\n",
            "    accuracy                           0.90     13533\n",
            "   macro avg       0.71      0.60      0.63     13533\n",
            "weighted avg       0.87      0.90      0.88     13533\n",
            "\n"
          ]
        }
      ]
    },
    {
      "cell_type": "code",
      "source": [
        "nb=GaussianNB()\n",
        "nb.fit(x_train,y_train)\n",
        "ypred4=nb.predict(x_test)\n",
        "print(accuracy_score(y_test,ypred4))"
      ],
      "metadata": {
        "colab": {
          "base_uri": "https://localhost:8080/"
        },
        "id": "M8qmhLfptNim",
        "outputId": "dfb30e15-0683-4b32-d097-785656c2f0e6"
      },
      "execution_count": 141,
      "outputs": [
        {
          "output_type": "stream",
          "name": "stdout",
          "text": [
            "0.8611542156210744\n"
          ]
        }
      ]
    },
    {
      "cell_type": "code",
      "source": [
        "confusion_matrix(y_test,ypred4)"
      ],
      "metadata": {
        "colab": {
          "base_uri": "https://localhost:8080/"
        },
        "id": "uswwtwpVtelT",
        "outputId": "259a6423-cdc6-42f0-abda-15d57fed1b26"
      },
      "execution_count": 142,
      "outputs": [
        {
          "output_type": "execute_result",
          "data": {
            "text/plain": [
              "array([[11078,  1068],\n",
              "       [  811,   576]])"
            ]
          },
          "metadata": {},
          "execution_count": 142
        }
      ]
    },
    {
      "cell_type": "code",
      "source": [
        "print('NB')\n",
        "confusion_matrix(y_test,ypred4)\n",
        "print(classification_report(y_test,ypred4))"
      ],
      "metadata": {
        "colab": {
          "base_uri": "https://localhost:8080/"
        },
        "id": "JEHwYf-Sths_",
        "outputId": "e05f031f-7841-4c06-cae9-c52086d552e4"
      },
      "execution_count": 143,
      "outputs": [
        {
          "output_type": "stream",
          "name": "stdout",
          "text": [
            "NB\n",
            "              precision    recall  f1-score   support\n",
            "\n",
            "          no       0.93      0.91      0.92     12146\n",
            "         yes       0.35      0.42      0.38      1387\n",
            "\n",
            "    accuracy                           0.86     13533\n",
            "   macro avg       0.64      0.66      0.65     13533\n",
            "weighted avg       0.87      0.86      0.87     13533\n",
            "\n"
          ]
        }
      ]
    },
    {
      "cell_type": "code",
      "source": [
        "from tabulate import tabulate\n",
        "\n",
        "d = [ [classification_report(y_test,ypred4)],\n",
        "     [classification_report(y_test,ypred3)],\n",
        "     [classification_report(y_test,ypred2)],\n",
        "     [classification_report(y_test,ypred1)],\n",
        "     [classification_report(y_test,ypred)]]\n",
        "\n",
        "print(tabulate(d, headers=[[\"NB\",\"KNN\",\"SVM\",\"Adaboosting classifier\",\"Logestic Regression\"]]))"
      ],
      "metadata": {
        "colab": {
          "base_uri": "https://localhost:8080/"
        },
        "id": "JpMk53intl3W",
        "outputId": "3fbd08e0-ac15-4336-d070-d19b82ecf5d5"
      },
      "execution_count": 153,
      "outputs": [
        {
          "output_type": "stream",
          "name": "stdout",
          "text": [
            "['NB', 'KNN', 'SVM', 'Adaboosting classifier', 'Logestic Regression']\n",
            "-----------------------------------------------------------------------\n",
            "precision    recall  f1-score   support\n",
            "\n",
            "          no       0.93      0.91      0.92     12146\n",
            "         yes       0.35      0.42      0.38      1387\n",
            "\n",
            "    accuracy                           0.86     13533\n",
            "   macro avg       0.64      0.66      0.65     13533\n",
            "weighted avg       0.87      0.86      0.87     13533\n",
            "precision    recall  f1-score   support\n",
            "\n",
            "          no       0.92      0.97      0.94     12146\n",
            "         yes       0.50      0.23      0.32      1387\n",
            "\n",
            "    accuracy                           0.90     13533\n",
            "   macro avg       0.71      0.60      0.63     13533\n",
            "weighted avg       0.87      0.90      0.88     13533\n",
            "precision    recall  f1-score   support\n",
            "\n",
            "          no       0.91      0.99      0.95     12146\n",
            "         yes       0.58      0.17      0.26      1387\n",
            "\n",
            "    accuracy                           0.90     13533\n",
            "   macro avg       0.74      0.58      0.60     13533\n",
            "weighted avg       0.88      0.90      0.88     13533\n",
            "precision    recall  f1-score   support\n",
            "\n",
            "          no       0.91      0.98      0.95     12146\n",
            "         yes       0.54      0.18      0.27      1387\n",
            "\n",
            "    accuracy                           0.90     13533\n",
            "   macro avg       0.73      0.58      0.61     13533\n",
            "weighted avg       0.88      0.90      0.88     13533\n",
            "precision    recall  f1-score   support\n",
            "\n",
            "          no       0.91      0.99      0.95     12146\n",
            "         yes       0.58      0.17      0.26      1387\n",
            "\n",
            "    accuracy                           0.90     13533\n",
            "   macro avg       0.75      0.58      0.61     13533\n",
            "weighted avg       0.88      0.90      0.88     13533\n"
          ]
        }
      ]
    },
    {
      "cell_type": "code",
      "source": [
        " "
      ],
      "metadata": {
        "id": "7ns640Aduwga"
      },
      "execution_count": 155,
      "outputs": []
    },
    {
      "cell_type": "code",
      "source": [
        ""
      ],
      "metadata": {
        "colab": {
          "base_uri": "https://localhost:8080/"
        },
        "id": "OP3EDhDmxIvl",
        "outputId": "7b728e77-2f92-419b-a6dd-56a6c064b1c8"
      },
      "execution_count": 156,
      "outputs": [
        {
          "output_type": "execute_result",
          "data": {
            "text/plain": [
              "array([['              precision    recall  f1-score   support\\n\\n          no       0.93      0.91      0.92     12146\\n         yes       0.35      0.42      0.38      1387\\n\\n    accuracy                           0.86     13533\\n   macro avg       0.64      0.66      0.65     13533\\nweighted avg       0.87      0.86      0.87     13533\\n'],\n",
              "       ['              precision    recall  f1-score   support\\n\\n          no       0.92      0.97      0.94     12146\\n         yes       0.50      0.23      0.32      1387\\n\\n    accuracy                           0.90     13533\\n   macro avg       0.71      0.60      0.63     13533\\nweighted avg       0.87      0.90      0.88     13533\\n'],\n",
              "       ['              precision    recall  f1-score   support\\n\\n          no       0.91      0.99      0.95     12146\\n         yes       0.58      0.17      0.26      1387\\n\\n    accuracy                           0.90     13533\\n   macro avg       0.74      0.58      0.60     13533\\nweighted avg       0.88      0.90      0.88     13533\\n'],\n",
              "       ['              precision    recall  f1-score   support\\n\\n          no       0.91      0.98      0.95     12146\\n         yes       0.54      0.18      0.27      1387\\n\\n    accuracy                           0.90     13533\\n   macro avg       0.73      0.58      0.61     13533\\nweighted avg       0.88      0.90      0.88     13533\\n'],\n",
              "       ['              precision    recall  f1-score   support\\n\\n          no       0.91      0.99      0.95     12146\\n         yes       0.58      0.17      0.26      1387\\n\\n    accuracy                           0.90     13533\\n   macro avg       0.75      0.58      0.61     13533\\nweighted avg       0.88      0.90      0.88     13533\\n']],\n",
              "      dtype='<U326')"
            ]
          },
          "metadata": {},
          "execution_count": 156
        }
      ]
    },
    {
      "cell_type": "code",
      "source": [
        ""
      ],
      "metadata": {
        "id": "f6WuThCSxMlP"
      },
      "execution_count": null,
      "outputs": []
    }
  ]
}